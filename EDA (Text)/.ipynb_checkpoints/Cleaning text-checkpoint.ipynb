{
 "cells": [
  {
   "cell_type": "markdown",
   "id": "c7f078e8",
   "metadata": {},
   "source": [
    "# Cleaning text\n",
    "\n",
    "This notebook is to clean text (this processing step is applicable to all models and all EDA steps). Some models may have processing steps specific to them."
   ]
  },
  {
   "cell_type": "code",
   "execution_count": 1,
   "id": "388edd39",
   "metadata": {},
   "outputs": [],
   "source": [
    "#import necessary libraries\n",
    "import pandas as pd\n",
    "import numpy as np\n",
    "\n",
    "import nltk\n",
    "import re\n",
    "\n",
    "import emoji\n",
    "import demoji\n",
    "\n"
   ]
  },
  {
   "cell_type": "code",
   "execution_count": 2,
   "id": "7bd96c81",
   "metadata": {},
   "outputs": [],
   "source": [
    "#This is the wrapper preprocessing function that is universally applicable to all our text models/eda steps\n",
    "CLEANR = re.compile('<.*?>') \n",
    "#replace the new line characters\n",
    "def process_text(text):\n",
    "    txt_lst = text.split()\n",
    "    \n",
    "    #A helper function to process emojis\n",
    "    #Emojis are left in in order to \n",
    "    def process_emoji(emo):\n",
    "        try:\n",
    "            decoded = emoji.demojize(emo)\n",
    "            decoded = decoded.replace(\":\", \"\")\n",
    "            return decoded\n",
    "        except UnicodeDecodeError:\n",
    "            #if unable to decode emoji, just keep a place holder for it\n",
    "            return \"__emoji__\"\n",
    "    \n",
    "    #store all emojis as the decoded form\n",
    "    txt_lst = [process_emoji(x) if emoji.is_emoji(x) else x for x in txt_lst]\n",
    "    \n",
    "    #process all tagged accounts\n",
    "    def process_tagged_accounts(account):\n",
    "        #replace all tagged accounts with __user_mention__\n",
    "        if account.startswith(\"@\") and len(account) > 1:\n",
    "            return \"__user_mention__\"\n",
    "        return account\n",
    "    \n",
    "    #replace hashtags with place holders\n",
    "    def process_hashtags(text):\n",
    "        if text.startswith(\"#\"):\n",
    "            return \"__hashtag__\"\n",
    "        return text\n",
    "    \n",
    "    \n",
    "    #apply the functions above\n",
    "    txt_lst = [process_tagged_accounts(x) for x in txt_lst]\n",
    "    txt_lst = [process_hashtags(x) for x in txt_lst]\n",
    "    \n",
    "    #next, we process the urls\n",
    "    def process_urls_html(text):\n",
    "        pattern = r'(https?:\\/\\/(?:www\\.)?[-a-zA-Z0-9@:%._+~#=]{1,256}\\.[a-zA-Z0-9()]{1,6}[-a-zA-Z0-9()@:%_+.~#?&/=]*)'\n",
    "        text = re.sub(pattern, \"\", text)\n",
    "        text = re.sub(CLEANR, \"\", text)\n",
    "        return text\n",
    "    \n",
    "    text = \" \".join(txt_lst)\n",
    "    \n",
    "    final_text = process_urls_html(text)\n",
    "    return final_text"
   ]
  },
  {
   "cell_type": "code",
   "execution_count": 6,
   "id": "9dc4123b",
   "metadata": {},
   "outputs": [],
   "source": [
    "#read in the bot tweets from the fake followers dataset\n",
    "bot_tweets_fake = pd.read_csv('bot_tweets_fake_english.csv')"
   ]
  },
  {
   "cell_type": "code",
   "execution_count": 7,
   "id": "efa691a6",
   "metadata": {},
   "outputs": [],
   "source": [
    "#read in the bot tweets from the social dataset\n",
    "bot_tweets_social = pd.read_csv('bot_tweets_social_english.csv')"
   ]
  },
  {
   "cell_type": "code",
   "execution_count": 8,
   "id": "e08393f0",
   "metadata": {},
   "outputs": [],
   "source": [
    "#finally, read in the bot tweets from the human tweets dataset\n",
    "human_tweets = pd.read_csv('human_tweets_english.csv')"
   ]
  },
  {
   "cell_type": "code",
   "execution_count": 9,
   "id": "f8cf9dc3",
   "metadata": {},
   "outputs": [],
   "source": [
    "#add another column for the cleaned text\n",
    "bot_tweets_fake['cleaned_text'] = bot_tweets_fake.text.apply(process_text)"
   ]
  },
  {
   "cell_type": "code",
   "execution_count": 10,
   "id": "faba9084",
   "metadata": {},
   "outputs": [],
   "source": [
    "bot_tweets_social['cleaned_text'] = bot_tweets_social.text.apply(process_text)"
   ]
  },
  {
   "cell_type": "code",
   "execution_count": 11,
   "id": "9671d017",
   "metadata": {},
   "outputs": [],
   "source": [
    "human_tweets['cleaned_text'] = human_tweets.text.apply(process_text)"
   ]
  },
  {
   "cell_type": "code",
   "execution_count": 12,
   "id": "a55c1cb2",
   "metadata": {},
   "outputs": [],
   "source": [
    "#save these datasets to csv files for usage in training models\n",
    "\n",
    "bot_tweets_fake.to_csv(\"bot_tweets_fake_processed.csv\")\n",
    "bot_tweets_social.to_csv('bot_tweets_social_processed.csv')\n",
    "human_tweets.to_csv(\"human_tweets_processed.csv\")"
   ]
  }
 ],
 "metadata": {
  "kernelspec": {
   "display_name": "Python 3 (ipykernel)",
   "language": "python",
   "name": "python3"
  },
  "language_info": {
   "codemirror_mode": {
    "name": "ipython",
    "version": 3
   },
   "file_extension": ".py",
   "mimetype": "text/x-python",
   "name": "python",
   "nbconvert_exporter": "python",
   "pygments_lexer": "ipython3",
   "version": "3.9.12"
  }
 },
 "nbformat": 4,
 "nbformat_minor": 5
}
