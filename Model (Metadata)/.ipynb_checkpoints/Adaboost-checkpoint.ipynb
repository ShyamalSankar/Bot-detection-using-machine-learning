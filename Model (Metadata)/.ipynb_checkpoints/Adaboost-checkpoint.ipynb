{
 "cells": [
  {
   "cell_type": "code",
   "execution_count": null,
   "id": "12a5cf19",
   "metadata": {},
   "outputs": [],
   "source": [
    "import time\n",
    "import warnings\n",
    "import pickle\n",
    "import shap\n",
    "\n",
    "import pandas as pd \n",
    "import numpy as np\n",
    "import matplotlib.pyplot as plt\n",
    "import xgboost as xgb # recommended version: 1.5.0\n",
    "\n",
    "from sklearn.linear_model import LogisticRegression\n",
    "from sklearn.svm import SVC\n",
    "from sklearn.ensemble import RandomForestClassifier\n",
    "from sklearn import metrics\n",
    "from sklearn.model_selection import RandomizedSearchCV, GridSearchCV, cross_val_score, RepeatedKFold\n",
    "from xgboost import plot_importance\n",
    "\n",
    "pd.set_option(\"display.max_columns\", None)\n",
    "warnings.filterwarnings(\"ignore\")"
   ]
  },
  {
   "cell_type": "code",
   "execution_count": null,
   "id": "9153c0fe",
   "metadata": {},
   "outputs": [],
   "source": [
    "# Reading of Excel\n",
    "train_metadata = pd.read_csv('train_dataset.csv')\n",
    "test_metadata = pd.read_csv('test_metadata.csv')"
   ]
  },
  {
   "cell_type": "code",
   "execution_count": null,
   "id": "9ea4b1c6",
   "metadata": {},
   "outputs": [],
   "source": [
    "train_metadata"
   ]
  },
  {
   "cell_type": "code",
   "execution_count": null,
   "id": "6d78e34d",
   "metadata": {},
   "outputs": [],
   "source": [
    "test_metadata"
   ]
  },
  {
   "cell_type": "code",
   "execution_count": null,
   "id": "472eed4c",
   "metadata": {},
   "outputs": [],
   "source": [
    "x_train = train_metadata.drop(columns = \"isBot\")\n",
    "x_test = test_metadata.drop(columns = \"isBot\")\n",
    "y_train = train_metadata[\"isBot\"]\n",
    "y_test = test_metadata[\"isBot\"]"
   ]
  },
  {
   "cell_type": "markdown",
   "id": "ea3980f8",
   "metadata": {},
   "source": [
    "# Models\n",
    "1. Logistic Regression\n",
    "2. Support Vector Classifier\n",
    "3. Random Forest Classifier\n",
    "4. Adaboost Classifer\n",
    "5. Gradient Boosting Classifier"
   ]
  },
  {
   "cell_type": "markdown",
   "id": "5b358d6a",
   "metadata": {},
   "source": [
    "## 01 Logistic Regression\n",
    "* Model \n",
    "* Error Metrics"
   ]
  },
  {
   "cell_type": "code",
   "execution_count": null,
   "id": "c2e5d166",
   "metadata": {},
   "outputs": [],
   "source": [
    "# Model\n",
    "log_regression = LogisticRegression()"
   ]
  },
  {
   "cell_type": "code",
   "execution_count": null,
   "id": "8b18d2f7",
   "metadata": {},
   "outputs": [],
   "source": [
    "%%time\n",
    "\n",
    "# Fit Model\n",
    "log_model = log_regression.fit(x_train, y_train)"
   ]
  },
  {
   "cell_type": "code",
   "execution_count": null,
   "id": "549dd6fd",
   "metadata": {},
   "outputs": [],
   "source": [
    "%%time\n",
    "\n",
    "# y_prediction\n",
    "y_pred = log_model.predict(x_test)"
   ]
  },
  {
   "cell_type": "code",
   "execution_count": null,
   "id": "d7d4a98e",
   "metadata": {},
   "outputs": [],
   "source": [
    "# Error Metrics\n",
    "accuracy = metrics.accuracy_score(y_test, y_pred)\n",
    "print(f'Accuracy: {accuracy}')\n",
    "lg_loss = metrics.log_loss(y_test, y_pred)\n",
    "print(f'Log Loss: {lg_loss}')\n",
    "roc_auc = metrics.roc_auc_score(y_test, y_pred)\n",
    "print(f'ROC AUC: {roc_auc}')\n",
    "f1_score = metrics.f1_score(y_test, y_pred)\n",
    "print(f'F1-score: {f1_score}')\n",
    "precision = metrics.precision_score(y_test, y_pred)\n",
    "print(f'Precision: {precision}')\n",
    "recall = metrics.recall_score(y_test, y_pred)\n",
    "print(f'Recall: {recall}')\n",
    "report = metrics.classification_report(y_test, y_pred)\n",
    "print(f'Classification Report: \\n {report}')"
   ]
  },
  {
   "cell_type": "code",
   "execution_count": null,
   "id": "20dab6d8",
   "metadata": {},
   "outputs": [],
   "source": [
    "# Confusion Matrix Plot\n",
    "metrics.plot_confusion_matrix(log_model, x_test, y_test, cmap = \"Blues\")\n",
    "plt.show()"
   ]
  },
  {
   "cell_type": "markdown",
   "id": "9dcee6fe",
   "metadata": {},
   "source": [
    "## Feature Importance"
   ]
  },
  {
   "cell_type": "code",
   "execution_count": null,
   "id": "edec2c4d",
   "metadata": {},
   "outputs": [],
   "source": [
    "# Feature importance\n",
    "feature = pd.DataFrame(log_model.coef_.T, log_model.columns, columns = ['Feature Importance']).sort_values(by = 'Feature Importance', ascending=False)\n",
    "feature"
   ]
  },
  {
   "cell_type": "code",
   "execution_count": null,
   "id": "67f873ac",
   "metadata": {},
   "outputs": [],
   "source": [
    "# Feature importance\n",
    "fig = feature.plot(kind=\"barh\", figsize=(12, 15))\n",
    "bg = fig.patch\n",
    "bg.set_facecolor(\"white\")\n",
    "plt.gca().invert_yaxis()\n",
    "plt.grid()\n",
    "plt.show()"
   ]
  }
 ],
 "metadata": {
  "kernelspec": {
   "display_name": "Python 3 (ipykernel)",
   "language": "python",
   "name": "python3"
  },
  "language_info": {
   "codemirror_mode": {
    "name": "ipython",
    "version": 3
   },
   "file_extension": ".py",
   "mimetype": "text/x-python",
   "name": "python",
   "nbconvert_exporter": "python",
   "pygments_lexer": "ipython3",
   "version": "3.9.7"
  }
 },
 "nbformat": 4,
 "nbformat_minor": 5
}
