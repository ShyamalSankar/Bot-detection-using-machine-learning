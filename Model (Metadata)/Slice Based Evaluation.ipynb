{
 "cells": [
  {
   "cell_type": "markdown",
   "id": "c3d6f2c3",
   "metadata": {},
   "source": [
    "# Import Packages and Reading of Data"
   ]
  },
  {
   "cell_type": "code",
   "execution_count": 16,
   "id": "12a5cf19",
   "metadata": {},
   "outputs": [],
   "source": [
    "import time\n",
    "import warnings\n",
    "import pickle\n",
    "import shap\n",
    "\n",
    "import pandas as pd \n",
    "import numpy as np\n",
    "import matplotlib.pyplot as plt\n",
    "\n",
    "from xgboost import XGBClassifier, plot_importance\n",
    "from sklearn.linear_model import LogisticRegression\n",
    "from sklearn.svm import SVC\n",
    "from sklearn.ensemble import RandomForestClassifier\n",
    "from sklearn import metrics\n",
    "from sklearn.model_selection import RandomizedSearchCV, GridSearchCV, cross_val_score, RepeatedKFold\n",
    "from xgboost import plot_importance\n",
    "from bayes_opt import BayesianOptimization\n",
    "from sklearn.model_selection import train_test_split\n",
    "from sklearn.preprocessing import StandardScaler\n",
    "\n",
    "pd.set_option(\"display.max_columns\", None)\n",
    "warnings.filterwarnings(\"ignore\")"
   ]
  },
  {
   "cell_type": "code",
   "execution_count": 15,
   "id": "472eed4c",
   "metadata": {},
   "outputs": [
    {
     "data": {
      "text/html": [
       "<div>\n",
       "<style scoped>\n",
       "    .dataframe tbody tr th:only-of-type {\n",
       "        vertical-align: middle;\n",
       "    }\n",
       "\n",
       "    .dataframe tbody tr th {\n",
       "        vertical-align: top;\n",
       "    }\n",
       "\n",
       "    .dataframe thead th {\n",
       "        text-align: right;\n",
       "    }\n",
       "</style>\n",
       "<table border=\"1\" class=\"dataframe\">\n",
       "  <thead>\n",
       "    <tr style=\"text-align: right;\">\n",
       "      <th></th>\n",
       "      <th>protected</th>\n",
       "      <th>verified</th>\n",
       "      <th>location</th>\n",
       "      <th>followers_count</th>\n",
       "      <th>following_count</th>\n",
       "      <th>tweet_count</th>\n",
       "      <th>listed_count</th>\n",
       "      <th>has_profile_image</th>\n",
       "      <th>isBot</th>\n",
       "      <th>un_no_of_char</th>\n",
       "      <th>un_special_char</th>\n",
       "      <th>name_no_of_char</th>\n",
       "      <th>name_special_char</th>\n",
       "      <th>des_no_of_usertags</th>\n",
       "      <th>des_no_of_hashtags</th>\n",
       "      <th>des_external_links</th>\n",
       "      <th>has_description</th>\n",
       "      <th>has_url</th>\n",
       "    </tr>\n",
       "  </thead>\n",
       "  <tbody>\n",
       "    <tr>\n",
       "      <th>0</th>\n",
       "      <td>0</td>\n",
       "      <td>0</td>\n",
       "      <td>1</td>\n",
       "      <td>1959</td>\n",
       "      <td>2708</td>\n",
       "      <td>405158</td>\n",
       "      <td>157</td>\n",
       "      <td>1</td>\n",
       "      <td>0</td>\n",
       "      <td>6</td>\n",
       "      <td>0</td>\n",
       "      <td>12</td>\n",
       "      <td>0</td>\n",
       "      <td>0</td>\n",
       "      <td>0</td>\n",
       "      <td>0</td>\n",
       "      <td>1</td>\n",
       "      <td>1</td>\n",
       "    </tr>\n",
       "    <tr>\n",
       "      <th>1</th>\n",
       "      <td>0</td>\n",
       "      <td>0</td>\n",
       "      <td>0</td>\n",
       "      <td>371</td>\n",
       "      <td>0</td>\n",
       "      <td>33172</td>\n",
       "      <td>10</td>\n",
       "      <td>1</td>\n",
       "      <td>0</td>\n",
       "      <td>13</td>\n",
       "      <td>0</td>\n",
       "      <td>14</td>\n",
       "      <td>0</td>\n",
       "      <td>0</td>\n",
       "      <td>0</td>\n",
       "      <td>0</td>\n",
       "      <td>1</td>\n",
       "      <td>1</td>\n",
       "    </tr>\n",
       "    <tr>\n",
       "      <th>2</th>\n",
       "      <td>0</td>\n",
       "      <td>0</td>\n",
       "      <td>0</td>\n",
       "      <td>36</td>\n",
       "      <td>0</td>\n",
       "      <td>548</td>\n",
       "      <td>0</td>\n",
       "      <td>1</td>\n",
       "      <td>1</td>\n",
       "      <td>13</td>\n",
       "      <td>1</td>\n",
       "      <td>16</td>\n",
       "      <td>0</td>\n",
       "      <td>0</td>\n",
       "      <td>0</td>\n",
       "      <td>0</td>\n",
       "      <td>1</td>\n",
       "      <td>0</td>\n",
       "    </tr>\n",
       "    <tr>\n",
       "      <th>3</th>\n",
       "      <td>0</td>\n",
       "      <td>0</td>\n",
       "      <td>1</td>\n",
       "      <td>30</td>\n",
       "      <td>148</td>\n",
       "      <td>93</td>\n",
       "      <td>1</td>\n",
       "      <td>1</td>\n",
       "      <td>1</td>\n",
       "      <td>12</td>\n",
       "      <td>0</td>\n",
       "      <td>12</td>\n",
       "      <td>0</td>\n",
       "      <td>0</td>\n",
       "      <td>0</td>\n",
       "      <td>0</td>\n",
       "      <td>1</td>\n",
       "      <td>1</td>\n",
       "    </tr>\n",
       "    <tr>\n",
       "      <th>4</th>\n",
       "      <td>0</td>\n",
       "      <td>0</td>\n",
       "      <td>1</td>\n",
       "      <td>1089</td>\n",
       "      <td>2283</td>\n",
       "      <td>9098</td>\n",
       "      <td>34</td>\n",
       "      <td>1</td>\n",
       "      <td>0</td>\n",
       "      <td>10</td>\n",
       "      <td>0</td>\n",
       "      <td>14</td>\n",
       "      <td>0</td>\n",
       "      <td>0</td>\n",
       "      <td>0</td>\n",
       "      <td>1</td>\n",
       "      <td>1</td>\n",
       "      <td>1</td>\n",
       "    </tr>\n",
       "    <tr>\n",
       "      <th>...</th>\n",
       "      <td>...</td>\n",
       "      <td>...</td>\n",
       "      <td>...</td>\n",
       "      <td>...</td>\n",
       "      <td>...</td>\n",
       "      <td>...</td>\n",
       "      <td>...</td>\n",
       "      <td>...</td>\n",
       "      <td>...</td>\n",
       "      <td>...</td>\n",
       "      <td>...</td>\n",
       "      <td>...</td>\n",
       "      <td>...</td>\n",
       "      <td>...</td>\n",
       "      <td>...</td>\n",
       "      <td>...</td>\n",
       "      <td>...</td>\n",
       "      <td>...</td>\n",
       "    </tr>\n",
       "    <tr>\n",
       "      <th>20284</th>\n",
       "      <td>0</td>\n",
       "      <td>0</td>\n",
       "      <td>1</td>\n",
       "      <td>72</td>\n",
       "      <td>76</td>\n",
       "      <td>4161</td>\n",
       "      <td>1</td>\n",
       "      <td>1</td>\n",
       "      <td>0</td>\n",
       "      <td>11</td>\n",
       "      <td>0</td>\n",
       "      <td>12</td>\n",
       "      <td>0</td>\n",
       "      <td>0</td>\n",
       "      <td>0</td>\n",
       "      <td>0</td>\n",
       "      <td>0</td>\n",
       "      <td>0</td>\n",
       "    </tr>\n",
       "    <tr>\n",
       "      <th>20285</th>\n",
       "      <td>0</td>\n",
       "      <td>0</td>\n",
       "      <td>0</td>\n",
       "      <td>314</td>\n",
       "      <td>107</td>\n",
       "      <td>20915</td>\n",
       "      <td>9</td>\n",
       "      <td>1</td>\n",
       "      <td>0</td>\n",
       "      <td>13</td>\n",
       "      <td>1</td>\n",
       "      <td>14</td>\n",
       "      <td>0</td>\n",
       "      <td>0</td>\n",
       "      <td>0</td>\n",
       "      <td>1</td>\n",
       "      <td>1</td>\n",
       "      <td>1</td>\n",
       "    </tr>\n",
       "    <tr>\n",
       "      <th>20286</th>\n",
       "      <td>0</td>\n",
       "      <td>0</td>\n",
       "      <td>1</td>\n",
       "      <td>2981</td>\n",
       "      <td>2523</td>\n",
       "      <td>4991</td>\n",
       "      <td>46</td>\n",
       "      <td>1</td>\n",
       "      <td>0</td>\n",
       "      <td>14</td>\n",
       "      <td>0</td>\n",
       "      <td>16</td>\n",
       "      <td>0</td>\n",
       "      <td>0</td>\n",
       "      <td>3</td>\n",
       "      <td>1</td>\n",
       "      <td>1</td>\n",
       "      <td>1</td>\n",
       "    </tr>\n",
       "    <tr>\n",
       "      <th>20287</th>\n",
       "      <td>0</td>\n",
       "      <td>0</td>\n",
       "      <td>0</td>\n",
       "      <td>170</td>\n",
       "      <td>180</td>\n",
       "      <td>7820</td>\n",
       "      <td>4</td>\n",
       "      <td>1</td>\n",
       "      <td>0</td>\n",
       "      <td>11</td>\n",
       "      <td>0</td>\n",
       "      <td>12</td>\n",
       "      <td>0</td>\n",
       "      <td>0</td>\n",
       "      <td>0</td>\n",
       "      <td>0</td>\n",
       "      <td>1</td>\n",
       "      <td>0</td>\n",
       "    </tr>\n",
       "    <tr>\n",
       "      <th>20288</th>\n",
       "      <td>0</td>\n",
       "      <td>0</td>\n",
       "      <td>1</td>\n",
       "      <td>971</td>\n",
       "      <td>319</td>\n",
       "      <td>64923</td>\n",
       "      <td>21</td>\n",
       "      <td>1</td>\n",
       "      <td>0</td>\n",
       "      <td>13</td>\n",
       "      <td>0</td>\n",
       "      <td>7</td>\n",
       "      <td>0</td>\n",
       "      <td>0</td>\n",
       "      <td>0</td>\n",
       "      <td>0</td>\n",
       "      <td>1</td>\n",
       "      <td>1</td>\n",
       "    </tr>\n",
       "  </tbody>\n",
       "</table>\n",
       "<p>20289 rows × 18 columns</p>\n",
       "</div>"
      ],
      "text/plain": [
       "       protected  verified  location  followers_count  following_count  \\\n",
       "0              0         0         1             1959             2708   \n",
       "1              0         0         0              371                0   \n",
       "2              0         0         0               36                0   \n",
       "3              0         0         1               30              148   \n",
       "4              0         0         1             1089             2283   \n",
       "...          ...       ...       ...              ...              ...   \n",
       "20284          0         0         1               72               76   \n",
       "20285          0         0         0              314              107   \n",
       "20286          0         0         1             2981             2523   \n",
       "20287          0         0         0              170              180   \n",
       "20288          0         0         1              971              319   \n",
       "\n",
       "       tweet_count  listed_count  has_profile_image  isBot  un_no_of_char  \\\n",
       "0           405158           157                  1      0              6   \n",
       "1            33172            10                  1      0             13   \n",
       "2              548             0                  1      1             13   \n",
       "3               93             1                  1      1             12   \n",
       "4             9098            34                  1      0             10   \n",
       "...            ...           ...                ...    ...            ...   \n",
       "20284         4161             1                  1      0             11   \n",
       "20285        20915             9                  1      0             13   \n",
       "20286         4991            46                  1      0             14   \n",
       "20287         7820             4                  1      0             11   \n",
       "20288        64923            21                  1      0             13   \n",
       "\n",
       "       un_special_char  name_no_of_char  name_special_char  \\\n",
       "0                    0               12                  0   \n",
       "1                    0               14                  0   \n",
       "2                    1               16                  0   \n",
       "3                    0               12                  0   \n",
       "4                    0               14                  0   \n",
       "...                ...              ...                ...   \n",
       "20284                0               12                  0   \n",
       "20285                1               14                  0   \n",
       "20286                0               16                  0   \n",
       "20287                0               12                  0   \n",
       "20288                0                7                  0   \n",
       "\n",
       "       des_no_of_usertags  des_no_of_hashtags  des_external_links  \\\n",
       "0                       0                   0                   0   \n",
       "1                       0                   0                   0   \n",
       "2                       0                   0                   0   \n",
       "3                       0                   0                   0   \n",
       "4                       0                   0                   1   \n",
       "...                   ...                 ...                 ...   \n",
       "20284                   0                   0                   0   \n",
       "20285                   0                   0                   1   \n",
       "20286                   0                   3                   1   \n",
       "20287                   0                   0                   0   \n",
       "20288                   0                   0                   0   \n",
       "\n",
       "       has_description  has_url  \n",
       "0                    1        1  \n",
       "1                    1        1  \n",
       "2                    1        0  \n",
       "3                    1        1  \n",
       "4                    1        1  \n",
       "...                ...      ...  \n",
       "20284                0        0  \n",
       "20285                1        1  \n",
       "20286                1        1  \n",
       "20287                1        0  \n",
       "20288                1        1  \n",
       "\n",
       "[20289 rows x 18 columns]"
      ]
     },
     "execution_count": 15,
     "metadata": {},
     "output_type": "execute_result"
    }
   ],
   "source": [
    "metadata_dataset = pd.read_csv('metadata_dataset.csv')\n",
    "metadata_dataset"
   ]
  },
  {
   "cell_type": "markdown",
   "id": "ea3980f8",
   "metadata": {},
   "source": [
    "# Slicing Based Model Evaluation\n",
    "1. Random Forest Classifier\n",
    "2. XGBoost Classifier"
   ]
  },
  {
   "cell_type": "code",
   "execution_count": 19,
   "id": "25d63f28",
   "metadata": {},
   "outputs": [],
   "source": [
    "rf_classifier = RandomForestClassifier(bootstrap = False, \n",
    "                                       max_depth = 40, \n",
    "                                       max_features = \"auto\", \n",
    "                                       min_samples_split = 10, \n",
    "                                       n_estimators = 10)"
   ]
  },
  {
   "cell_type": "code",
   "execution_count": 20,
   "id": "9d3b9150",
   "metadata": {},
   "outputs": [],
   "source": [
    "# Best Hyperparameters: {'colsample_bytree': 0.7, 'eta': 0.1, 'max_depth': 25, 'subsample': 0.8}\n",
    "def get_xgb_classifier(weight_train):\n",
    "    classifier = XGBClassifier(gamma = 0.1,\n",
    "                               alpha = 0.5,\n",
    "                               max_depth = 25, \n",
    "                               eta = 0.1, \n",
    "                               subsample = 0.8,\n",
    "                               colsample_bytree = 0.7,\n",
    "                               scale_pos_weight = weight_train,\n",
    "                               objective = \"binary:logistic\",\n",
    "                               eval_metric = \"logloss\")\n",
    "    return classifier"
   ]
  },
  {
   "cell_type": "code",
   "execution_count": 21,
   "id": "ff89e632",
   "metadata": {},
   "outputs": [],
   "source": [
    "numeric_variables = ['followers_count', 'following_count', 'listed_count', 'tweet_count', 'un_no_of_char','name_no_of_char', 'des_no_of_usertags', 'des_no_of_hashtags']"
   ]
  },
  {
   "cell_type": "markdown",
   "id": "5b358d6a",
   "metadata": {},
   "source": [
    "## 01 verification\n",
    "* Random Forest Classifier\n",
    "* XGBoost Classifier"
   ]
  },
  {
   "cell_type": "code",
   "execution_count": 22,
   "id": "5591c4ba",
   "metadata": {},
   "outputs": [
    {
     "name": "stdout",
     "output_type": "stream",
     "text": [
      "Number of Verified Accounts: 1071\n",
      "Number of Non-Verified Accounts: 19218\n",
      "Train set (verified): (856, 17) (856,)\n",
      "Test set (verified): (215, 17) (215,)\n",
      "Train set (non-verified): (15374, 17) (15374,)\n",
      "Test set (non-verified): (3844, 17) (3844,)\n"
     ]
    }
   ],
   "source": [
    "print(\"Number of Verified Accounts: \" + str(len(metadata_dataset[metadata_dataset['verified'] == 1].index)))\n",
    "print(\"Number of Non-Verified Accounts: \" + str(len(metadata_dataset[metadata_dataset['verified'] == 0].index)))\n",
    "\n",
    "verified_accounts_dataset = metadata_dataset[metadata_dataset['verified'] == 1]\n",
    "non_verified_accounts_dataset = metadata_dataset[metadata_dataset['verified'] == 0]\n",
    "\n",
    "# Getting X and y\n",
    "x_verified = verified_accounts_dataset.drop(columns = ['isBot'])\n",
    "y_verified = verified_accounts_dataset['isBot']\n",
    "\n",
    "# Split into training and testing sets before scaling the variables and performing one hot encoding to avoid data leakage\n",
    "x_train_verified, x_test_verified, y_train_verified, y_test_verified = train_test_split(x_verified, y_verified, test_size = 0.2, random_state=101)\n",
    "print(\"Train set (verified):\", x_train_verified.shape, y_train_verified.shape)\n",
    "print(\"Test set (verified):\", x_test_verified.shape, y_test_verified.shape)\n",
    "\n",
    "scaler_verified = StandardScaler()\n",
    "x_train_verified[numeric_variables] = scaler_verified.fit_transform(x_train_verified[numeric_variables])\n",
    "x_test_verified[numeric_variables] = scaler_verified.transform(x_test_verified[numeric_variables])\n",
    "\n",
    "# Getting X and y\n",
    "x_non_verified = non_verified_accounts_dataset.drop(columns = ['isBot'])\n",
    "y_non_verified = non_verified_accounts_dataset['isBot']\n",
    "\n",
    "# Split into training and testing sets before scaling the variables and performing one hot encoding to avoid data leakage\n",
    "x_train_non_verified, x_test_non_verified, y_train_non_verified, y_test_non_verified = train_test_split(x_non_verified, y_non_verified, test_size = 0.2, random_state=101)\n",
    "print(\"Train set (non-verified):\", x_train_non_verified.shape, y_train_non_verified.shape)\n",
    "print(\"Test set (non-verified):\", x_test_non_verified.shape, y_test_non_verified.shape)\n",
    "\n",
    "scaler_non_verified = StandardScaler()\n",
    "x_train_non_verified[numeric_variables] = scaler_non_verified.fit_transform(x_train_non_verified[numeric_variables])\n",
    "x_test_non_verified[numeric_variables] = scaler_non_verified.transform(x_test_non_verified[numeric_variables])"
   ]
  },
  {
   "cell_type": "markdown",
   "id": "ec3475d3",
   "metadata": {},
   "source": [
    "### verified - RF"
   ]
  },
  {
   "cell_type": "code",
   "execution_count": 23,
   "id": "6b65ac07",
   "metadata": {},
   "outputs": [
    {
     "name": "stdout",
     "output_type": "stream",
     "text": [
      "Wall time: 58.3 ms\n"
     ]
    }
   ],
   "source": [
    "%%time\n",
    "\n",
    "# Fit Model\n",
    "rf_model_verified = rf_classifier.fit(x_train_verified, np.ravel(y_train_verified))"
   ]
  },
  {
   "cell_type": "code",
   "execution_count": 24,
   "id": "82eada32",
   "metadata": {},
   "outputs": [
    {
     "name": "stdout",
     "output_type": "stream",
     "text": [
      "Wall time: 10.6 ms\n"
     ]
    }
   ],
   "source": [
    "%%time\n",
    "\n",
    "# y_prediction for the verified RF model\n",
    "y_pred_verified_rf = rf_model_verified.predict(x_test_verified)"
   ]
  },
  {
   "cell_type": "code",
   "execution_count": 25,
   "id": "ddebaa1d",
   "metadata": {},
   "outputs": [
    {
     "name": "stdout",
     "output_type": "stream",
     "text": [
      "Accuracy: 0.813953488372093\n",
      "Log Loss: 6.425856054747578\n",
      "ROC AUC: 0.6861169345446075\n",
      "F1-score: 0.5348837209302327\n",
      "Precision: 0.696969696969697\n",
      "Recall: 0.4339622641509434\n",
      "Classification Report: \n",
      "               precision    recall  f1-score   support\n",
      "\n",
      "           0       0.84      0.94      0.88       162\n",
      "           1       0.70      0.43      0.53        53\n",
      "\n",
      "    accuracy                           0.81       215\n",
      "   macro avg       0.77      0.69      0.71       215\n",
      "weighted avg       0.80      0.81      0.80       215\n",
      "\n"
     ]
    }
   ],
   "source": [
    "# Metrics\n",
    "accuracy = metrics.accuracy_score(y_test_verified, y_pred_verified_rf)\n",
    "print(f'Accuracy: {accuracy}')\n",
    "lg_loss = metrics.log_loss(y_test_verified, y_pred_verified_rf)\n",
    "print(f'Log Loss: {lg_loss}')\n",
    "roc_auc = metrics.roc_auc_score(y_test_verified, y_pred_verified_rf)\n",
    "print(f'ROC AUC: {roc_auc}')\n",
    "f1_score = metrics.f1_score(y_test_verified, y_pred_verified_rf)\n",
    "print(f'F1-score: {f1_score}')\n",
    "precision = metrics.precision_score(y_test_verified, y_pred_verified_rf)\n",
    "print(f'Precision: {precision}')\n",
    "recall = metrics.recall_score(y_test_verified, y_pred_verified_rf)\n",
    "print(f'Recall: {recall}')\n",
    "report = metrics.classification_report(y_test_verified, y_pred_verified_rf)\n",
    "print(f'Classification Report: \\n {report}')"
   ]
  },
  {
   "cell_type": "code",
   "execution_count": 26,
   "id": "20dab6d8",
   "metadata": {},
   "outputs": [
    {
     "data": {
      "image/png": "[encoded data removed]",
      "text/plain": [
       "<Figure size 432x288 with 2 Axes>"
      ]
     },
     "metadata": {
      "needs_background": "light"
     },
     "output_type": "display_data"
    }
   ],
   "source": [
    "# Confusion Matrix Plot\n",
    "metrics.plot_confusion_matrix(rf_model_verified, x_test_verified, y_test_verified, cmap = \"Blues\")\n",
    "plt.show()"
   ]
  },
  {
   "cell_type": "markdown",
   "id": "4f693cbc",
   "metadata": {},
   "source": [
    "### non-verified - RF"
   ]
  },
  {
   "cell_type": "code",
   "execution_count": 27,
   "id": "24c69955",
   "metadata": {},
   "outputs": [
    {
     "name": "stdout",
     "output_type": "stream",
     "text": [
      "Wall time: 257 ms\n"
     ]
    }
   ],
   "source": [
    "%%time\n",
    "\n",
    "# Fit Model\n",
    "rf_model_non_verified = rf_classifier.fit(x_train_non_verified, np.ravel(y_train_non_verified))"
   ]
  },
  {
   "cell_type": "code",
   "execution_count": 28,
   "id": "20f40059",
   "metadata": {},
   "outputs": [
    {
     "name": "stdout",
     "output_type": "stream",
     "text": [
      "Wall time: 8.72 ms\n"
     ]
    }
   ],
   "source": [
    "%%time\n",
    "\n",
    "# y_prediction for the non verified RF model\n",
    "y_pred_non_verified_rf = rf_model_non_verified.predict(x_test_non_verified)"
   ]
  },
  {
   "cell_type": "code",
   "execution_count": 29,
   "id": "d297ac76",
   "metadata": {},
   "outputs": [
    {
     "name": "stdout",
     "output_type": "stream",
     "text": [
      "Accuracy: 0.9427679500520292\n",
      "Log Loss: 1.9767372484726153\n",
      "ROC AUC: 0.9125666434121154\n",
      "F1-score: 0.8895582329317269\n",
      "Precision: 0.9375661375661376\n",
      "Recall: 0.8462273161413563\n",
      "Classification Report: \n",
      "               precision    recall  f1-score   support\n",
      "\n",
      "           0       0.94      0.98      0.96      2797\n",
      "           1       0.94      0.85      0.89      1047\n",
      "\n",
      "    accuracy                           0.94      3844\n",
      "   macro avg       0.94      0.91      0.93      3844\n",
      "weighted avg       0.94      0.94      0.94      3844\n",
      "\n"
     ]
    }
   ],
   "source": [
    "# Metrics\n",
    "accuracy = metrics.accuracy_score(y_test_non_verified, y_pred_non_verified_rf)\n",
    "print(f'Accuracy: {accuracy}')\n",
    "lg_loss = metrics.log_loss(y_test_non_verified, y_pred_non_verified_rf)\n",
    "print(f'Log Loss: {lg_loss}')\n",
    "roc_auc = metrics.roc_auc_score(y_test_non_verified, y_pred_non_verified_rf)\n",
    "print(f'ROC AUC: {roc_auc}')\n",
    "f1_score = metrics.f1_score(y_test_non_verified, y_pred_non_verified_rf)\n",
    "print(f'F1-score: {f1_score}')\n",
    "precision = metrics.precision_score(y_test_non_verified, y_pred_non_verified_rf)\n",
    "print(f'Precision: {precision}')\n",
    "recall = metrics.recall_score(y_test_non_verified, y_pred_non_verified_rf)\n",
    "print(f'Recall: {recall}')\n",
    "report = metrics.classification_report(y_test_non_verified, y_pred_non_verified_rf)\n",
    "print(f'Classification Report: \\n {report}')"
   ]
  },
  {
   "cell_type": "code",
   "execution_count": 30,
   "id": "652fb93b",
   "metadata": {},
   "outputs": [
    {
     "data": {
      "image/png": "[encoded data removed]",
      "text/plain": [
       "<Figure size 432x288 with 2 Axes>"
      ]
     },
     "metadata": {
      "needs_background": "light"
     },
     "output_type": "display_data"
    }
   ],
   "source": [
    "# Confusion Matrix Plot\n",
    "metrics.plot_confusion_matrix(rf_model_non_verified, x_test_non_verified, y_test_non_verified, cmap = \"Blues\")\n",
    "plt.show()"
   ]
  },
  {
   "cell_type": "markdown",
   "id": "da3541b5",
   "metadata": {},
   "source": [
    "### verified - XGB"
   ]
  },
  {
   "cell_type": "code",
   "execution_count": 31,
   "id": "f8bf403f",
   "metadata": {},
   "outputs": [
    {
     "name": "stdout",
     "output_type": "stream",
     "text": [
      "Wall time: 861 ms\n"
     ]
    }
   ],
   "source": [
    "%%time\n",
    "\n",
    "# Fit Model\n",
    "weight_verified = verified_accounts_dataset['isBot'].value_counts()[0] / verified_accounts_dataset['isBot'].value_counts()[1]\n",
    "xgb_classifier_verified = get_xgb_classifier(weight_verified)\n",
    "xgb_model_verified = xgb_classifier_verified.fit(x_train_verified, y_train_verified)"
   ]
  },
  {
   "cell_type": "code",
   "execution_count": 32,
   "id": "d6fe71fa",
   "metadata": {},
   "outputs": [
    {
     "name": "stdout",
     "output_type": "stream",
     "text": [
      "Wall time: 8.23 ms\n"
     ]
    }
   ],
   "source": [
    "%%time\n",
    "\n",
    "# y_prediction for the verified XGBoost model\n",
    "y_pred_verified_xgb = xgb_model_verified.predict(x_test_verified)"
   ]
  },
  {
   "cell_type": "code",
   "execution_count": 33,
   "id": "93ef610b",
   "metadata": {},
   "outputs": [
    {
     "name": "stdout",
     "output_type": "stream",
     "text": [
      "Accuracy: 0.8093023255813954\n",
      "Log Loss: 6.586531278814333\n",
      "ROC AUC: 0.7274633123689727\n",
      "F1-score: 0.594059405940594\n",
      "Precision: 0.625\n",
      "Recall: 0.5660377358490566\n",
      "Classification Report: \n",
      "               precision    recall  f1-score   support\n",
      "\n",
      "           0       0.86      0.89      0.88       162\n",
      "           1       0.62      0.57      0.59        53\n",
      "\n",
      "    accuracy                           0.81       215\n",
      "   macro avg       0.74      0.73      0.73       215\n",
      "weighted avg       0.80      0.81      0.81       215\n",
      "\n"
     ]
    }
   ],
   "source": [
    "# Metrics\n",
    "accuracy = metrics.accuracy_score(y_test_verified, y_pred_verified_xgb)\n",
    "print(f'Accuracy: {accuracy}')\n",
    "lg_loss = metrics.log_loss(y_test_verified, y_pred_verified_xgb)\n",
    "print(f'Log Loss: {lg_loss}')\n",
    "roc_auc = metrics.roc_auc_score(y_test_verified, y_pred_verified_xgb)\n",
    "print(f'ROC AUC: {roc_auc}')\n",
    "f1_score = metrics.f1_score(y_test_verified, y_pred_verified_xgb)\n",
    "print(f'F1-score: {f1_score}')\n",
    "precision = metrics.precision_score(y_test_verified, y_pred_verified_xgb)\n",
    "print(f'Precision: {precision}')\n",
    "recall = metrics.recall_score(y_test_verified, y_pred_verified_xgb)\n",
    "print(f'Recall: {recall}')\n",
    "report = metrics.classification_report(y_test_verified, y_pred_verified_xgb)\n",
    "print(f'Classification Report: \\n {report}')"
   ]
  },
  {
   "cell_type": "code",
   "execution_count": 34,
   "id": "c8945a57",
   "metadata": {},
   "outputs": [
    {
     "data": {
      "image/png": "[encoded data removed]",
      "text/plain": [
       "<Figure size 432x288 with 2 Axes>"
      ]
     },
     "metadata": {
      "needs_background": "light"
     },
     "output_type": "display_data"
    }
   ],
   "source": [
    "# Confusion Matrix Plot\n",
    "metrics.plot_confusion_matrix(xgb_model_verified, x_test_verified, y_test_verified, cmap = \"Blues\")\n",
    "plt.show()"
   ]
  },
  {
   "cell_type": "markdown",
   "id": "9e9fad27",
   "metadata": {},
   "source": [
    "### non-verified - XGB"
   ]
  },
  {
   "cell_type": "code",
   "execution_count": 108,
   "id": "5c1922c5",
   "metadata": {},
   "outputs": [
    {
     "name": "stdout",
     "output_type": "stream",
     "text": [
      "Wall time: 3.58 s\n"
     ]
    }
   ],
   "source": [
    "%%time\n",
    "\n",
    "# Fit Model\n",
    "weight_non_verified = non_verified_accounts_dataset['isBot'].value_counts()[0] / non_verified_accounts_dataset['isBot'].value_counts()[1]\n",
    "xgb_classifier_non_verified = get_xgb_classifier(weight_non_verified)\n",
    "xgb_model_non_verified = xgb_classifier_non_verified.fit(x_train_non_verified, y_train_non_verified)"
   ]
  },
  {
   "cell_type": "code",
   "execution_count": 109,
   "id": "a1840c78",
   "metadata": {},
   "outputs": [
    {
     "name": "stdout",
     "output_type": "stream",
     "text": [
      "Wall time: 30.3 ms\n"
     ]
    }
   ],
   "source": [
    "%%time\n",
    "\n",
    "# y_prediction for the non verified XGBoost model\n",
    "y_pred_non_verified_xgb = xgb_model_non_verified.predict(x_test_non_verified)"
   ]
  },
  {
   "cell_type": "code",
   "execution_count": 110,
   "id": "d5722301",
   "metadata": {},
   "outputs": [
    {
     "name": "stdout",
     "output_type": "stream",
     "text": [
      "Accuracy: 0.9430280957336108\n",
      "Log Loss: 1.9677565031945519\n",
      "ROC AUC: 0.919318829459453\n",
      "F1-score: 0.8923832923832924\n",
      "Precision: 0.9190283400809717\n",
      "Recall: 0.8672397325692455\n",
      "Classification Report: \n",
      "               precision    recall  f1-score   support\n",
      "\n",
      "           0       0.95      0.97      0.96      2797\n",
      "           1       0.92      0.87      0.89      1047\n",
      "\n",
      "    accuracy                           0.94      3844\n",
      "   macro avg       0.94      0.92      0.93      3844\n",
      "weighted avg       0.94      0.94      0.94      3844\n",
      "\n"
     ]
    }
   ],
   "source": [
    "# Metrics\n",
    "accuracy = metrics.accuracy_score(y_test_non_verified, y_pred_non_verified_xgb)\n",
    "print(f'Accuracy: {accuracy}')\n",
    "lg_loss = metrics.log_loss(y_test_non_verified, y_pred_non_verified_xgb)\n",
    "print(f'Log Loss: {lg_loss}')\n",
    "roc_auc = metrics.roc_auc_score(y_test_non_verified, y_pred_non_verified_xgb)\n",
    "print(f'ROC AUC: {roc_auc}')\n",
    "f1_score = metrics.f1_score(y_test_non_verified, y_pred_non_verified_xgb)\n",
    "print(f'F1-score: {f1_score}')\n",
    "precision = metrics.precision_score(y_test_non_verified, y_pred_non_verified_xgb)\n",
    "print(f'Precision: {precision}')\n",
    "recall = metrics.recall_score(y_test_non_verified, y_pred_non_verified_xgb)\n",
    "print(f'Recall: {recall}')\n",
    "report = metrics.classification_report(y_test_non_verified, y_pred_non_verified_xgb)\n",
    "print(f'Classification Report: \\n {report}')"
   ]
  },
  {
   "cell_type": "code",
   "execution_count": 41,
   "id": "c8268d4b",
   "metadata": {},
   "outputs": [
    {
     "data": {
      "image/png": "[encoded data removed]",
      "text/plain": [
       "<Figure size 432x288 with 2 Axes>"
      ]
     },
     "metadata": {
      "needs_background": "light"
     },
     "output_type": "display_data"
    }
   ],
   "source": [
    "# Confusion Matrix Plot\n",
    "metrics.plot_confusion_matrix(xgb_model_non_verified, x_test_non_verified, y_test_non_verified, cmap = \"Blues\")\n",
    "plt.show()"
   ]
  },
  {
   "cell_type": "markdown",
   "id": "38bbc311",
   "metadata": {},
   "source": [
    "## 02 protected\n",
    "* Random Forest Classifier\n",
    "* XGBoost Classifier"
   ]
  },
  {
   "cell_type": "code",
   "execution_count": 42,
   "id": "1db8256c",
   "metadata": {},
   "outputs": [
    {
     "name": "stdout",
     "output_type": "stream",
     "text": [
      "Number of Protected Accounts: 2472\n",
      "Number of Non-Protected Accounts: 17817\n",
      "Train set (verified): (1977, 17) (1977,)\n",
      "Test set (verified): (495, 17) (495,)\n",
      "Train set (non-verified): (14253, 17) (14253,)\n",
      "Test set (non-verified): (3564, 17) (3564,)\n"
     ]
    }
   ],
   "source": [
    "print(\"Number of Protected Accounts: \" + str(len(metadata_dataset[metadata_dataset['protected'] == 1].index)))\n",
    "print(\"Number of Non-Protected Accounts: \" + str(len(metadata_dataset[metadata_dataset['protected'] == 0].index)))\n",
    "\n",
    "protected_accounts_dataset = metadata_dataset[metadata_dataset['protected'] == 1]\n",
    "non_protected_accounts_dataset = metadata_dataset[metadata_dataset['protected'] == 0]\n",
    "\n",
    "# Getting X and y\n",
    "x_protected = protected_accounts_dataset.drop(columns = ['isBot'])\n",
    "y_protected = protected_accounts_dataset['isBot']\n",
    "\n",
    "# Split into training and testing sets before scaling the variables and performing one hot encoding to avoid data leakage\n",
    "x_train_protected, x_test_protected, y_train_protected, y_test_protected = train_test_split(x_protected, y_protected, test_size = 0.2, random_state=101)\n",
    "print(\"Train set (verified):\", x_train_protected.shape, y_train_protected.shape)\n",
    "print(\"Test set (verified):\", x_test_protected.shape, y_test_protected.shape)\n",
    "\n",
    "scaler_protected = StandardScaler()\n",
    "x_train_protected[numeric_variables] = scaler_protected.fit_transform(x_train_protected[numeric_variables])\n",
    "x_test_protected[numeric_variables] = scaler_protected.transform(x_test_protected[numeric_variables])\n",
    "\n",
    "# Getting X and y\n",
    "x_non_protected = non_protected_accounts_dataset.drop(columns = ['isBot'])\n",
    "y_non_protected = non_protected_accounts_dataset['isBot']\n",
    "\n",
    "# Split into training and testing sets before scaling the variables and performing one hot encoding to avoid data leakage\n",
    "x_train_non_protected, x_test_non_protected, y_train_non_protected, y_test_non_protected = train_test_split(x_non_protected, y_non_protected, test_size = 0.2, random_state=101)\n",
    "print(\"Train set (non-verified):\", x_train_non_protected.shape, y_train_non_protected.shape)\n",
    "print(\"Test set (non-verified):\", x_test_non_protected.shape, y_test_non_protected.shape)\n",
    "\n",
    "scaler_non_protected = StandardScaler()\n",
    "x_train_non_protected[numeric_variables] = scaler_non_protected.fit_transform(x_train_non_protected[numeric_variables])\n",
    "x_test_non_protected[numeric_variables] = scaler_non_protected.transform(x_test_non_protected[numeric_variables])"
   ]
  },
  {
   "cell_type": "markdown",
   "id": "87194952",
   "metadata": {},
   "source": [
    "### protected - RF"
   ]
  },
  {
   "cell_type": "code",
   "execution_count": 43,
   "id": "f95114ec",
   "metadata": {},
   "outputs": [
    {
     "name": "stdout",
     "output_type": "stream",
     "text": [
      "Wall time: 36.7 ms\n"
     ]
    }
   ],
   "source": [
    "%%time\n",
    "\n",
    "# Fit Model\n",
    "rf_model_protected = rf_classifier.fit(x_train_protected, np.ravel(y_train_protected))"
   ]
  },
  {
   "cell_type": "code",
   "execution_count": 44,
   "id": "5450fadc",
   "metadata": {},
   "outputs": [
    {
     "name": "stdout",
     "output_type": "stream",
     "text": [
      "Wall time: 4.99 ms\n"
     ]
    }
   ],
   "source": [
    "%%time\n",
    "\n",
    "# y_prediction for the protected RF model\n",
    "y_pred_protected_rf = rf_model_protected.predict(x_test_protected)"
   ]
  },
  {
   "cell_type": "code",
   "execution_count": 45,
   "id": "302a0c3c",
   "metadata": {},
   "outputs": [
    {
     "name": "stdout",
     "output_type": "stream",
     "text": [
      "Accuracy: 0.9737373737373738\n",
      "Log Loss: 0.9070870527696773\n",
      "ROC AUC: 0.5504115226337448\n",
      "F1-score: 0.13333333333333333\n",
      "Precision: 0.16666666666666666\n",
      "Recall: 0.1111111111111111\n",
      "Classification Report: \n",
      "               precision    recall  f1-score   support\n",
      "\n",
      "           0       0.98      0.99      0.99       486\n",
      "           1       0.17      0.11      0.13         9\n",
      "\n",
      "    accuracy                           0.97       495\n",
      "   macro avg       0.58      0.55      0.56       495\n",
      "weighted avg       0.97      0.97      0.97       495\n",
      "\n"
     ]
    }
   ],
   "source": [
    "# Metrics\n",
    "accuracy = metrics.accuracy_score(y_test_protected, y_pred_protected_rf)\n",
    "print(f'Accuracy: {accuracy}')\n",
    "lg_loss = metrics.log_loss(y_test_protected, y_pred_protected_rf)\n",
    "print(f'Log Loss: {lg_loss}')\n",
    "roc_auc = metrics.roc_auc_score(y_test_protected, y_pred_protected_rf)\n",
    "print(f'ROC AUC: {roc_auc}')\n",
    "f1_score = metrics.f1_score(y_test_protected, y_pred_protected_rf)\n",
    "print(f'F1-score: {f1_score}')\n",
    "precision = metrics.precision_score(y_test_protected, y_pred_protected_rf)\n",
    "print(f'Precision: {precision}')\n",
    "recall = metrics.recall_score(y_test_protected, y_pred_protected_rf)\n",
    "print(f'Recall: {recall}')\n",
    "report = metrics.classification_report(y_test_protected, y_pred_protected_rf)\n",
    "print(f'Classification Report: \\n {report}')"
   ]
  },
  {
   "cell_type": "code",
   "execution_count": 46,
   "id": "a0d34856",
   "metadata": {},
   "outputs": [
    {
     "data": {
      "image/png": "[encoded data removed]",
      "text/plain": [
       "<Figure size 432x288 with 2 Axes>"
      ]
     },
     "metadata": {
      "needs_background": "light"
     },
     "output_type": "display_data"
    }
   ],
   "source": [
    "# Confusion Matrix Plot\n",
    "metrics.plot_confusion_matrix(rf_model_protected, x_test_protected, y_test_protected, cmap = \"Blues\")\n",
    "plt.show()"
   ]
  },
  {
   "cell_type": "markdown",
   "id": "cc4d4cfa",
   "metadata": {},
   "source": [
    "### non-protected - RF"
   ]
  },
  {
   "cell_type": "code",
   "execution_count": 47,
   "id": "568cafa1",
   "metadata": {},
   "outputs": [
    {
     "name": "stdout",
     "output_type": "stream",
     "text": [
      "Wall time: 264 ms\n"
     ]
    }
   ],
   "source": [
    "%%time\n",
    "\n",
    "# Fit Model\n",
    "rf_model_non_protected = rf_classifier.fit(x_train_non_protected, np.ravel(y_train_non_protected))"
   ]
  },
  {
   "cell_type": "code",
   "execution_count": 48,
   "id": "5637487d",
   "metadata": {},
   "outputs": [
    {
     "name": "stdout",
     "output_type": "stream",
     "text": [
      "Wall time: 8.33 ms\n"
     ]
    }
   ],
   "source": [
    "%%time\n",
    "\n",
    "# y_prediction for the non protected RF model\n",
    "y_pred_non_protected_rf = rf_model_non_protected.predict(x_test_non_protected)"
   ]
  },
  {
   "cell_type": "code",
   "execution_count": 49,
   "id": "88ac8c4a",
   "metadata": {},
   "outputs": [
    {
     "name": "stdout",
     "output_type": "stream",
     "text": [
      "Accuracy: 0.9262065095398428\n",
      "Log Loss: 2.5487518981170973\n",
      "ROC AUC: 0.9010416666666666\n",
      "F1-score: 0.879080459770115\n",
      "Precision: 0.9345063538611925\n",
      "Recall: 0.8298611111111112\n",
      "Classification Report: \n",
      "               precision    recall  f1-score   support\n",
      "\n",
      "           0       0.92      0.97      0.95      2412\n",
      "           1       0.93      0.83      0.88      1152\n",
      "\n",
      "    accuracy                           0.93      3564\n",
      "   macro avg       0.93      0.90      0.91      3564\n",
      "weighted avg       0.93      0.93      0.92      3564\n",
      "\n"
     ]
    }
   ],
   "source": [
    "# Metrics\n",
    "accuracy = metrics.accuracy_score(y_test_non_protected, y_pred_non_protected_rf)\n",
    "print(f'Accuracy: {accuracy}')\n",
    "lg_loss = metrics.log_loss(y_test_non_protected, y_pred_non_protected_rf)\n",
    "print(f'Log Loss: {lg_loss}')\n",
    "roc_auc = metrics.roc_auc_score(y_test_non_protected, y_pred_non_protected_rf)\n",
    "print(f'ROC AUC: {roc_auc}')\n",
    "f1_score = metrics.f1_score(y_test_non_protected, y_pred_non_protected_rf)\n",
    "print(f'F1-score: {f1_score}')\n",
    "precision = metrics.precision_score(y_test_non_protected, y_pred_non_protected_rf)\n",
    "print(f'Precision: {precision}')\n",
    "recall = metrics.recall_score(y_test_non_protected, y_pred_non_protected_rf)\n",
    "print(f'Recall: {recall}')\n",
    "report = metrics.classification_report(y_test_non_protected, y_pred_non_protected_rf)\n",
    "print(f'Classification Report: \\n {report}')"
   ]
  },
  {
   "cell_type": "code",
   "execution_count": 50,
   "id": "82d5871d",
   "metadata": {},
   "outputs": [
    {
     "data": {
      "image/png": "[encoded data removed]",
      "text/plain": [
       "<Figure size 432x288 with 2 Axes>"
      ]
     },
     "metadata": {
      "needs_background": "light"
     },
     "output_type": "display_data"
    }
   ],
   "source": [
    "# Confusion Matrix Plot\n",
    "metrics.plot_confusion_matrix(rf_model_non_protected, x_test_non_protected, y_test_non_protected, cmap = \"Blues\")\n",
    "plt.show()"
   ]
  },
  {
   "cell_type": "markdown",
   "id": "5448d826",
   "metadata": {},
   "source": [
    "### protected - XGB"
   ]
  },
  {
   "cell_type": "code",
   "execution_count": 51,
   "id": "ba9a761a",
   "metadata": {},
   "outputs": [
    {
     "name": "stdout",
     "output_type": "stream",
     "text": [
      "Wall time: 167 ms\n"
     ]
    }
   ],
   "source": [
    "%%time\n",
    "\n",
    "# Fit Model\n",
    "weight_protected = protected_accounts_dataset['isBot'].value_counts()[0] / protected_accounts_dataset['isBot'].value_counts()[1]\n",
    "xgb_classifier_protected = get_xgb_classifier(weight_protected)\n",
    "xgb_model_protected = xgb_classifier_protected.fit(x_train_protected, np.ravel(y_train_protected))"
   ]
  },
  {
   "cell_type": "code",
   "execution_count": 52,
   "id": "b6d4bd37",
   "metadata": {},
   "outputs": [
    {
     "name": "stdout",
     "output_type": "stream",
     "text": [
      "Wall time: 3.67 ms\n"
     ]
    }
   ],
   "source": [
    "%%time\n",
    "\n",
    "# y_prediction for the verified stack model\n",
    "y_pred_protected_xgb = xgb_model_protected.predict(x_test_protected)"
   ]
  },
  {
   "cell_type": "code",
   "execution_count": 53,
   "id": "6f7d9398",
   "metadata": {},
   "outputs": [
    {
     "name": "stdout",
     "output_type": "stream",
     "text": [
      "Accuracy: 0.9757575757575757\n",
      "Log Loss: 0.8373117469213729\n",
      "ROC AUC: 0.6059670781893004\n",
      "F1-score: 0.25\n",
      "Precision: 0.2857142857142857\n",
      "Recall: 0.2222222222222222\n",
      "Classification Report: \n",
      "               precision    recall  f1-score   support\n",
      "\n",
      "           0       0.99      0.99      0.99       486\n",
      "           1       0.29      0.22      0.25         9\n",
      "\n",
      "    accuracy                           0.98       495\n",
      "   macro avg       0.64      0.61      0.62       495\n",
      "weighted avg       0.97      0.98      0.97       495\n",
      "\n"
     ]
    }
   ],
   "source": [
    "# Metrics\n",
    "accuracy = metrics.accuracy_score(y_test_protected, y_pred_protected_xgb)\n",
    "print(f'Accuracy: {accuracy}')\n",
    "lg_loss = metrics.log_loss(y_test_protected, y_pred_protected_xgb)\n",
    "print(f'Log Loss: {lg_loss}')\n",
    "roc_auc = metrics.roc_auc_score(y_test_protected, y_pred_protected_xgb)\n",
    "print(f'ROC AUC: {roc_auc}')\n",
    "f1_score = metrics.f1_score(y_test_protected, y_pred_protected_xgb)\n",
    "print(f'F1-score: {f1_score}')\n",
    "precision = metrics.precision_score(y_test_protected, y_pred_protected_xgb)\n",
    "print(f'Precision: {precision}')\n",
    "recall = metrics.recall_score(y_test_protected, y_pred_protected_xgb)\n",
    "print(f'Recall: {recall}')\n",
    "report = metrics.classification_report(y_test_protected, y_pred_protected_xgb)\n",
    "print(f'Classification Report: \\n {report}')"
   ]
  },
  {
   "cell_type": "code",
   "execution_count": 54,
   "id": "2789a7e8",
   "metadata": {},
   "outputs": [
    {
     "data": {
      "image/png": "[encoded data removed]",
      "text/plain": [
       "<Figure size 432x288 with 2 Axes>"
      ]
     },
     "metadata": {
      "needs_background": "light"
     },
     "output_type": "display_data"
    }
   ],
   "source": [
    "# Confusion Matrix Plot\n",
    "metrics.plot_confusion_matrix(xgb_model_protected, x_test_protected, y_test_protected, cmap = \"Blues\")\n",
    "plt.show()"
   ]
  },
  {
   "cell_type": "markdown",
   "id": "3466993f",
   "metadata": {},
   "source": [
    "### non-protected - XGB"
   ]
  },
  {
   "cell_type": "code",
   "execution_count": 55,
   "id": "fb82ed98",
   "metadata": {},
   "outputs": [
    {
     "name": "stdout",
     "output_type": "stream",
     "text": [
      "Wall time: 1.86 s\n"
     ]
    }
   ],
   "source": [
    "%%time\n",
    "\n",
    "# Fit Model\n",
    "weight_non_protected = non_protected_accounts_dataset['isBot'].value_counts()[0] / non_protected_accounts_dataset['isBot'].value_counts()[1]\n",
    "xgb_classifier_non_protected = get_xgb_classifier(weight_non_protected)\n",
    "xgb_model_non_protected = xgb_classifier_non_protected.fit(x_train_non_protected, np.ravel(y_train_non_protected))"
   ]
  },
  {
   "cell_type": "code",
   "execution_count": 58,
   "id": "f2dafbbe",
   "metadata": {},
   "outputs": [
    {
     "name": "stdout",
     "output_type": "stream",
     "text": [
      "Wall time: 9.98 ms\n"
     ]
    }
   ],
   "source": [
    "%%time\n",
    "\n",
    "# y_prediction for the non protected RF model\n",
    "y_pred_non_protected_xgb = xgb_model_non_protected.predict(x_test_non_protected)"
   ]
  },
  {
   "cell_type": "code",
   "execution_count": 59,
   "id": "01befff5",
   "metadata": {},
   "outputs": [
    {
     "name": "stdout",
     "output_type": "stream",
     "text": [
      "Accuracy: 0.9323793490460157\n",
      "Log Loss: 2.335553164354709\n",
      "ROC AUC: 0.9142179726368159\n",
      "F1-score: 0.8918797667115297\n",
      "Precision: 0.9229340761374187\n",
      "Recall: 0.8628472222222222\n",
      "Classification Report: \n",
      "               precision    recall  f1-score   support\n",
      "\n",
      "           0       0.94      0.97      0.95      2412\n",
      "           1       0.92      0.86      0.89      1152\n",
      "\n",
      "    accuracy                           0.93      3564\n",
      "   macro avg       0.93      0.91      0.92      3564\n",
      "weighted avg       0.93      0.93      0.93      3564\n",
      "\n"
     ]
    }
   ],
   "source": [
    "# Metrics\n",
    "accuracy = metrics.accuracy_score(y_test_non_protected, y_pred_non_protected_xgb)\n",
    "print(f'Accuracy: {accuracy}')\n",
    "lg_loss = metrics.log_loss(y_test_non_protected, y_pred_non_protected_xgb)\n",
    "print(f'Log Loss: {lg_loss}')\n",
    "roc_auc = metrics.roc_auc_score(y_test_non_protected, y_pred_non_protected_xgb)\n",
    "print(f'ROC AUC: {roc_auc}')\n",
    "f1_score = metrics.f1_score(y_test_non_protected, y_pred_non_protected_xgb)\n",
    "print(f'F1-score: {f1_score}')\n",
    "precision = metrics.precision_score(y_test_non_protected, y_pred_non_protected_xgb)\n",
    "print(f'Precision: {precision}')\n",
    "recall = metrics.recall_score(y_test_non_protected, y_pred_non_protected_xgb)\n",
    "print(f'Recall: {recall}')\n",
    "report = metrics.classification_report(y_test_non_protected, y_pred_non_protected_xgb)\n",
    "print(f'Classification Report: \\n {report}')"
   ]
  },
  {
   "cell_type": "code",
   "execution_count": 60,
   "id": "9e45502a",
   "metadata": {},
   "outputs": [
    {
     "data": {
      "image/png": "[encoded data removed]",
      "text/plain": [
       "<Figure size 432x288 with 2 Axes>"
      ]
     },
     "metadata": {
      "needs_background": "light"
     },
     "output_type": "display_data"
    }
   ],
   "source": [
    "# Confusion Matrix Plot\n",
    "metrics.plot_confusion_matrix(xgb_model_non_protected, x_test_non_protected, y_test_non_protected, cmap = \"Blues\")\n",
    "plt.show()"
   ]
  },
  {
   "cell_type": "markdown",
   "id": "0723f6f8",
   "metadata": {},
   "source": [
    "## 03 followers_count\n",
    "* Random Forest Classifier\n",
    "* XGBoost Classifier"
   ]
  },
  {
   "cell_type": "code",
   "execution_count": 67,
   "id": "719328c3",
   "metadata": {},
   "outputs": [
    {
     "name": "stdout",
     "output_type": "stream",
     "text": [
      "Upper Quartile: 1381\n",
      "Train set (high): (4056, 17) (4056,)\n",
      "Test set (high): (1014, 17) (1014,)\n",
      "Train set (low): (12175, 17) (12175,)\n",
      "Test set (low): (3044, 17) (3044,)\n"
     ]
    },
    {
     "data": {
      "image/png": "[encoded data removed]",
      "text/plain": [
       "<Figure size 432x288 with 1 Axes>"
      ]
     },
     "metadata": {
      "needs_background": "light"
     },
     "output_type": "display_data"
    }
   ],
   "source": [
    "plot = plt.hist(metadata_dataset['followers_count'], bins=50)\n",
    "print(\"Upper Quartile: \" + str(int(metadata_dataset['followers_count'].describe()['75%'])))\n",
    "\n",
    "high_followers_dataset = metadata_dataset[metadata_dataset['followers_count'] > 1381]\n",
    "low_followers_dataset = metadata_dataset[metadata_dataset['followers_count'] <= 1381]\n",
    "\n",
    "# Getting X and y\n",
    "x_high = high_followers_dataset.drop(columns = ['isBot'])\n",
    "y_high = high_followers_dataset['isBot']\n",
    "\n",
    "# Split into training and testing sets before scaling the variables and performing one hot encoding to avoid data leakage\n",
    "x_train_high, x_test_high, y_train_high, y_test_high = train_test_split(x_high, y_high, test_size = 0.2, random_state=101)\n",
    "print(\"Train set (high):\", x_train_high.shape, y_train_high.shape)\n",
    "print(\"Test set (high):\", x_test_high.shape, y_test_high.shape)\n",
    "\n",
    "scaler_high = StandardScaler()\n",
    "x_train_high[numeric_variables] = scaler_high.fit_transform(x_train_high[numeric_variables])\n",
    "x_test_high[numeric_variables] = scaler_high.transform(x_test_high[numeric_variables])\n",
    "\n",
    "# Getting X and y\n",
    "x_low = low_followers_dataset.drop(columns = ['isBot'])\n",
    "y_low = low_followers_dataset['isBot']\n",
    "\n",
    "# Split into training and testing sets before scaling the variables and performing one hot encoding to avoid data leakage\n",
    "x_train_low, x_test_low, y_train_low, y_test_low = train_test_split(x_low, y_low, test_size = 0.2, random_state=101)\n",
    "print(\"Train set (low):\", x_train_low.shape, y_train_low.shape)\n",
    "print(\"Test set (low):\", x_test_low.shape, y_test_low.shape)\n",
    "\n",
    "scaler_low = StandardScaler()\n",
    "x_train_low[numeric_variables] = scaler_low.fit_transform(x_train_low[numeric_variables])\n",
    "x_test_low[numeric_variables] = scaler_low.transform(x_test_low[numeric_variables])"
   ]
  },
  {
   "cell_type": "markdown",
   "id": "1c4b4658",
   "metadata": {},
   "source": [
    "### followers_count > 75% - RF"
   ]
  },
  {
   "cell_type": "code",
   "execution_count": 68,
   "id": "95e4354f",
   "metadata": {},
   "outputs": [
    {
     "name": "stdout",
     "output_type": "stream",
     "text": [
      "Wall time: 134 ms\n"
     ]
    }
   ],
   "source": [
    "%%time\n",
    "\n",
    "# Fit Model\n",
    "rf_model_high = rf_classifier.fit(x_train_high, np.ravel(y_train_high))"
   ]
  },
  {
   "cell_type": "code",
   "execution_count": 69,
   "id": "0f2a422a",
   "metadata": {},
   "outputs": [
    {
     "name": "stdout",
     "output_type": "stream",
     "text": [
      "Wall time: 7.77 ms\n"
     ]
    }
   ],
   "source": [
    "%%time\n",
    "\n",
    "# y_prediction for the high followers RF model\n",
    "y_pred_high_rf = rf_model_high.predict(x_test_high)"
   ]
  },
  {
   "cell_type": "code",
   "execution_count": 70,
   "id": "b67ca259",
   "metadata": {},
   "outputs": [
    {
     "name": "stdout",
     "output_type": "stream",
     "text": [
      "Accuracy: 0.8865877712031558\n",
      "Log Loss: 3.91714642182185\n",
      "ROC AUC: 0.8092861757105944\n",
      "F1-score: 0.7344110854503465\n",
      "Precision: 0.8238341968911918\n",
      "Recall: 0.6625\n",
      "Classification Report: \n",
      "               precision    recall  f1-score   support\n",
      "\n",
      "           0       0.90      0.96      0.93       774\n",
      "           1       0.82      0.66      0.73       240\n",
      "\n",
      "    accuracy                           0.89      1014\n",
      "   macro avg       0.86      0.81      0.83      1014\n",
      "weighted avg       0.88      0.89      0.88      1014\n",
      "\n"
     ]
    }
   ],
   "source": [
    "# Metrics\n",
    "accuracy = metrics.accuracy_score(y_test_high, y_pred_high_rf)\n",
    "print(f'Accuracy: {accuracy}')\n",
    "lg_loss = metrics.log_loss(y_test_high, y_pred_high_rf)\n",
    "print(f'Log Loss: {lg_loss}')\n",
    "roc_auc = metrics.roc_auc_score(y_test_high, y_pred_high_rf)\n",
    "print(f'ROC AUC: {roc_auc}')\n",
    "f1_score = metrics.f1_score(y_test_high, y_pred_high_rf)\n",
    "print(f'F1-score: {f1_score}')\n",
    "precision = metrics.precision_score(y_test_high, y_pred_high_rf)\n",
    "print(f'Precision: {precision}')\n",
    "recall = metrics.recall_score(y_test_high, y_pred_high_rf)\n",
    "print(f'Recall: {recall}')\n",
    "report = metrics.classification_report(y_test_high, y_pred_high_rf)\n",
    "print(f'Classification Report: \\n {report}')"
   ]
  },
  {
   "cell_type": "code",
   "execution_count": 71,
   "id": "3a335fe5",
   "metadata": {},
   "outputs": [
    {
     "data": {
      "image/png": "[encoded data removed]",
      "text/plain": [
       "<Figure size 432x288 with 2 Axes>"
      ]
     },
     "metadata": {
      "needs_background": "light"
     },
     "output_type": "display_data"
    }
   ],
   "source": [
    "# Confusion Matrix Plot\n",
    "metrics.plot_confusion_matrix(rf_model_high, x_test_high, y_test_high, cmap = \"Blues\")\n",
    "plt.show()"
   ]
  },
  {
   "cell_type": "markdown",
   "id": "90f8b6c7",
   "metadata": {},
   "source": [
    "### followers_count <= 75% - RF"
   ]
  },
  {
   "cell_type": "code",
   "execution_count": 72,
   "id": "aa0604b3",
   "metadata": {},
   "outputs": [
    {
     "name": "stdout",
     "output_type": "stream",
     "text": [
      "Wall time: 236 ms\n"
     ]
    }
   ],
   "source": [
    "%%time\n",
    "\n",
    "# Fit Model\n",
    "rf_model_low = rf_classifier.fit(x_train_low, np.ravel(y_train_low))"
   ]
  },
  {
   "cell_type": "code",
   "execution_count": 73,
   "id": "7dbf5d0b",
   "metadata": {},
   "outputs": [
    {
     "name": "stdout",
     "output_type": "stream",
     "text": [
      "Wall time: 12.3 ms\n"
     ]
    }
   ],
   "source": [
    "%%time\n",
    "\n",
    "# y_prediction for the low followers RF model\n",
    "y_pred_low_rf = rf_model_low.predict(x_test_low)"
   ]
  },
  {
   "cell_type": "code",
   "execution_count": 74,
   "id": "3732a848",
   "metadata": {},
   "outputs": [
    {
     "name": "stdout",
     "output_type": "stream",
     "text": [
      "Accuracy: 0.9497371879106439\n",
      "Log Loss: 1.7360239081288578\n",
      "ROC AUC: 0.9231820282305496\n",
      "F1-score: 0.9082183563287343\n",
      "Precision: 0.9618805590851334\n",
      "Recall: 0.8602272727272727\n",
      "Classification Report: \n",
      "               precision    recall  f1-score   support\n",
      "\n",
      "           0       0.95      0.99      0.97      2164\n",
      "           1       0.96      0.86      0.91       880\n",
      "\n",
      "    accuracy                           0.95      3044\n",
      "   macro avg       0.95      0.92      0.94      3044\n",
      "weighted avg       0.95      0.95      0.95      3044\n",
      "\n"
     ]
    }
   ],
   "source": [
    "# Metrics\n",
    "accuracy = metrics.accuracy_score(y_test_low, y_pred_low_rf)\n",
    "print(f'Accuracy: {accuracy}')\n",
    "lg_loss = metrics.log_loss(y_test_low, y_pred_low_rf)\n",
    "print(f'Log Loss: {lg_loss}')\n",
    "roc_auc = metrics.roc_auc_score(y_test_low, y_pred_low_rf)\n",
    "print(f'ROC AUC: {roc_auc}')\n",
    "f1_score = metrics.f1_score(y_test_low, y_pred_low_rf)\n",
    "print(f'F1-score: {f1_score}')\n",
    "precision = metrics.precision_score(y_test_low, y_pred_low_rf)\n",
    "print(f'Precision: {precision}')\n",
    "recall = metrics.recall_score(y_test_low, y_pred_low_rf)\n",
    "print(f'Recall: {recall}')\n",
    "report = metrics.classification_report(y_test_low, y_pred_low_rf)\n",
    "print(f'Classification Report: \\n {report}')"
   ]
  },
  {
   "cell_type": "code",
   "execution_count": 75,
   "id": "29cf2e60",
   "metadata": {},
   "outputs": [
    {
     "data": {
      "image/png": "[encoded data removed]",
      "text/plain": [
       "<Figure size 432x288 with 2 Axes>"
      ]
     },
     "metadata": {
      "needs_background": "light"
     },
     "output_type": "display_data"
    }
   ],
   "source": [
    "# Confusion Matrix Plot\n",
    "metrics.plot_confusion_matrix(rf_model_low, x_test_low, y_test_low, cmap = \"Blues\")\n",
    "plt.show()"
   ]
  },
  {
   "cell_type": "markdown",
   "id": "3c51daea",
   "metadata": {},
   "source": [
    "### followers_count > 75% - XGB"
   ]
  },
  {
   "cell_type": "code",
   "execution_count": 76,
   "id": "fd1cd06b",
   "metadata": {},
   "outputs": [
    {
     "name": "stdout",
     "output_type": "stream",
     "text": [
      "Wall time: 904 ms\n"
     ]
    }
   ],
   "source": [
    "%%time\n",
    "\n",
    "# Fit Model\n",
    "weight_high = high_followers_dataset['isBot'].value_counts()[0] / high_followers_dataset['isBot'].value_counts()[1]\n",
    "xgb_classifier_high = get_xgb_classifier(weight_high)\n",
    "xgb_model_high = xgb_classifier_high.fit(x_train_high, np.ravel(y_train_high))"
   ]
  },
  {
   "cell_type": "code",
   "execution_count": 77,
   "id": "925939da",
   "metadata": {},
   "outputs": [
    {
     "name": "stdout",
     "output_type": "stream",
     "text": [
      "Wall time: 9.38 ms\n"
     ]
    }
   ],
   "source": [
    "%%time\n",
    "\n",
    "# y_prediction for the high followers XGBoost model\n",
    "y_pred_high_xgb = xgb_model_high.predict(x_test_high)"
   ]
  },
  {
   "cell_type": "code",
   "execution_count": 78,
   "id": "58ed390b",
   "metadata": {},
   "outputs": [
    {
     "name": "stdout",
     "output_type": "stream",
     "text": [
      "Accuracy: 0.873767258382643\n",
      "Log Loss: 4.359970172780591\n",
      "ROC AUC: 0.8166989664082688\n",
      "F1-score: 0.7264957264957265\n",
      "Precision: 0.7456140350877193\n",
      "Recall: 0.7083333333333334\n",
      "Classification Report: \n",
      "               precision    recall  f1-score   support\n",
      "\n",
      "           0       0.91      0.93      0.92       774\n",
      "           1       0.75      0.71      0.73       240\n",
      "\n",
      "    accuracy                           0.87      1014\n",
      "   macro avg       0.83      0.82      0.82      1014\n",
      "weighted avg       0.87      0.87      0.87      1014\n",
      "\n"
     ]
    }
   ],
   "source": [
    "# Metrics\n",
    "accuracy = metrics.accuracy_score(y_test_high, y_pred_high_xgb)\n",
    "print(f'Accuracy: {accuracy}')\n",
    "lg_loss = metrics.log_loss(y_test_high, y_pred_high_xgb)\n",
    "print(f'Log Loss: {lg_loss}')\n",
    "roc_auc = metrics.roc_auc_score(y_test_high, y_pred_high_xgb)\n",
    "print(f'ROC AUC: {roc_auc}')\n",
    "f1_score = metrics.f1_score(y_test_high, y_pred_high_xgb)\n",
    "print(f'F1-score: {f1_score}')\n",
    "precision = metrics.precision_score(y_test_high, y_pred_high_xgb)\n",
    "print(f'Precision: {precision}')\n",
    "recall = metrics.recall_score(y_test_high, y_pred_high_xgb)\n",
    "print(f'Recall: {recall}')\n",
    "report = metrics.classification_report(y_test_high, y_pred_high_xgb)\n",
    "print(f'Classification Report: \\n {report}')"
   ]
  },
  {
   "cell_type": "code",
   "execution_count": 79,
   "id": "465b5734",
   "metadata": {},
   "outputs": [
    {
     "data": {
      "image/png": "[encoded data removed]",
      "text/plain": [
       "<Figure size 432x288 with 2 Axes>"
      ]
     },
     "metadata": {
      "needs_background": "light"
     },
     "output_type": "display_data"
    }
   ],
   "source": [
    "# Confusion Matrix Plot\n",
    "metrics.plot_confusion_matrix(xgb_model_high, x_test_high, y_test_high, cmap = \"Blues\")\n",
    "plt.show()"
   ]
  },
  {
   "cell_type": "markdown",
   "id": "216e099f",
   "metadata": {},
   "source": [
    "### followers_count <= 75% - XGB"
   ]
  },
  {
   "cell_type": "code",
   "execution_count": 81,
   "id": "7d1b5f04",
   "metadata": {},
   "outputs": [
    {
     "name": "stdout",
     "output_type": "stream",
     "text": [
      "Wall time: 1.8 s\n"
     ]
    }
   ],
   "source": [
    "%%time\n",
    "\n",
    "# Fit Model\n",
    "weight_low = low_followers_dataset['isBot'].value_counts()[0] / low_followers_dataset['isBot'].value_counts()[1]\n",
    "xgb_classifier_low = get_xgb_classifier(weight_low)\n",
    "xgb_model_low = xgb_classifier_low.fit(x_train_low, np.ravel(y_train_low))"
   ]
  },
  {
   "cell_type": "code",
   "execution_count": 82,
   "id": "7eec036d",
   "metadata": {},
   "outputs": [
    {
     "name": "stdout",
     "output_type": "stream",
     "text": [
      "Wall time: 11 ms\n"
     ]
    }
   ],
   "source": [
    "%%time\n",
    "\n",
    "# y_prediction for the low followers XGBoost model\n",
    "y_pred_low_xgb = xgb_model_low.predict(x_test_low)"
   ]
  },
  {
   "cell_type": "code",
   "execution_count": 83,
   "id": "8f3d2ccd",
   "metadata": {},
   "outputs": [
    {
     "name": "stdout",
     "output_type": "stream",
     "text": [
      "Accuracy: 0.9507227332457293\n",
      "Log Loss: 1.7019896317700771\n",
      "ROC AUC: 0.9316291379600067\n",
      "F1-score: 0.912280701754386\n",
      "Precision: 0.9397590361445783\n",
      "Recall: 0.8863636363636364\n",
      "Classification Report: \n",
      "               precision    recall  f1-score   support\n",
      "\n",
      "           0       0.95      0.98      0.97      2164\n",
      "           1       0.94      0.89      0.91       880\n",
      "\n",
      "    accuracy                           0.95      3044\n",
      "   macro avg       0.95      0.93      0.94      3044\n",
      "weighted avg       0.95      0.95      0.95      3044\n",
      "\n"
     ]
    }
   ],
   "source": [
    "# Metrics\n",
    "accuracy = metrics.accuracy_score(y_test_low, y_pred_low_xgb)\n",
    "print(f'Accuracy: {accuracy}')\n",
    "lg_loss = metrics.log_loss(y_test_low, y_pred_low_xgb)\n",
    "print(f'Log Loss: {lg_loss}')\n",
    "roc_auc = metrics.roc_auc_score(y_test_low, y_pred_low_xgb)\n",
    "print(f'ROC AUC: {roc_auc}')\n",
    "f1_score = metrics.f1_score(y_test_low, y_pred_low_xgb)\n",
    "print(f'F1-score: {f1_score}')\n",
    "precision = metrics.precision_score(y_test_low, y_pred_low_xgb)\n",
    "print(f'Precision: {precision}')\n",
    "recall = metrics.recall_score(y_test_low, y_pred_low_xgb)\n",
    "print(f'Recall: {recall}')\n",
    "report = metrics.classification_report(y_test_low, y_pred_low_xgb)\n",
    "print(f'Classification Report: \\n {report}')"
   ]
  },
  {
   "cell_type": "code",
   "execution_count": 84,
   "id": "eb012d13",
   "metadata": {},
   "outputs": [
    {
     "data": {
      "image/png": "[encoded data removed]",
      "text/plain": [
       "<Figure size 432x288 with 2 Axes>"
      ]
     },
     "metadata": {
      "needs_background": "light"
     },
     "output_type": "display_data"
    }
   ],
   "source": [
    "# Confusion Matrix Plot\n",
    "metrics.plot_confusion_matrix(xgb_model_low, x_test_low, y_test_low, cmap = \"Blues\")\n",
    "plt.show()"
   ]
  },
  {
   "cell_type": "markdown",
   "id": "671db889",
   "metadata": {},
   "source": [
    "## 04 has_profile_image\n",
    "* Random Forest Classifier\n",
    "* XGBoost Classifier"
   ]
  },
  {
   "cell_type": "code",
   "execution_count": 86,
   "id": "13f5d09a",
   "metadata": {},
   "outputs": [
    {
     "name": "stdout",
     "output_type": "stream",
     "text": [
      "Number of has_prof_img Accounts: 19788\n",
      "Number of no_prof_img Accounts: 501\n",
      "Train set (has profile image): (15830, 17) (15830,)\n",
      "Test set (has profile image): (3958, 17) (3958,)\n",
      "Train set (no profile image): (400, 17) (400,)\n",
      "Test set (no profile image): (101, 17) (101,)\n"
     ]
    }
   ],
   "source": [
    "print(\"Number of has_prof_img Accounts: \" + str(len(metadata_dataset[metadata_dataset['has_profile_image'] == 1].index)))\n",
    "print(\"Number of no_prof_img Accounts: \" + str(len(metadata_dataset[metadata_dataset['has_profile_image'] == 0].index)))\n",
    "\n",
    "has_prof_img_dataset = metadata_dataset[metadata_dataset['has_profile_image'] == 1]\n",
    "no_prof_img_dataset = metadata_dataset[metadata_dataset['has_profile_image'] == 0]\n",
    "\n",
    "# Getting X and y\n",
    "x_has_prof_img = has_prof_img_dataset.drop(columns = ['isBot'])\n",
    "y_has_prof_img = has_prof_img_dataset['isBot']\n",
    "\n",
    "# Split into training and testing sets before scaling the variables and performing one hot encoding to avoid data leakage\n",
    "x_train_has_prof_img, x_test_has_prof_img, y_train_has_prof_img, y_test_has_prof_img = train_test_split(x_has_prof_img, y_has_prof_img, test_size = 0.2, random_state=101)\n",
    "print(\"Train set (has profile image):\", x_train_has_prof_img.shape, y_train_has_prof_img.shape)\n",
    "print(\"Test set (has profile image):\", x_test_has_prof_img.shape, y_test_has_prof_img.shape)\n",
    "\n",
    "scaler_has_prof_img = StandardScaler()\n",
    "x_train_has_prof_img[numeric_variables] = scaler_has_prof_img.fit_transform(x_train_has_prof_img[numeric_variables])\n",
    "x_test_has_prof_img[numeric_variables] = scaler_has_prof_img.transform(x_test_has_prof_img[numeric_variables])\n",
    "\n",
    "# Getting X and y\n",
    "x_no_prof_img = no_prof_img_dataset.drop(columns = ['isBot'])\n",
    "y_no_prof_img = no_prof_img_dataset['isBot']\n",
    "\n",
    "# Split into training and testing sets before scaling the variables and performing one hot encoding to avoid data leakage\n",
    "x_train_no_prof_img, x_test_no_prof_img, y_train_no_prof_img, y_test_no_prof_img = train_test_split(x_no_prof_img, y_no_prof_img, test_size = 0.2, random_state=101)\n",
    "print(\"Train set (no profile image):\", x_train_no_prof_img.shape, y_train_no_prof_img.shape)\n",
    "print(\"Test set (no profile image):\", x_test_no_prof_img.shape, y_test_no_prof_img.shape)\n",
    "\n",
    "scaler_no_prof_img = StandardScaler()\n",
    "x_train_no_prof_img[numeric_variables] = scaler_no_prof_img.fit_transform(x_train_no_prof_img[numeric_variables])\n",
    "x_test_no_prof_img[numeric_variables] = scaler_no_prof_img.transform(x_test_no_prof_img[numeric_variables])"
   ]
  },
  {
   "cell_type": "markdown",
   "id": "ffa56373",
   "metadata": {},
   "source": [
    "### has_profile_image - RF"
   ]
  },
  {
   "cell_type": "code",
   "execution_count": 87,
   "id": "dd9802f5",
   "metadata": {},
   "outputs": [
    {
     "name": "stdout",
     "output_type": "stream",
     "text": [
      "Wall time: 354 ms\n"
     ]
    }
   ],
   "source": [
    "%%time\n",
    "\n",
    "# Fit Model\n",
    "rf_model_has_prof_img = rf_classifier.fit(x_train_has_prof_img, np.ravel(y_train_has_prof_img))"
   ]
  },
  {
   "cell_type": "code",
   "execution_count": 88,
   "id": "bc5a684a",
   "metadata": {},
   "outputs": [
    {
     "name": "stdout",
     "output_type": "stream",
     "text": [
      "Wall time: 12 ms\n"
     ]
    }
   ],
   "source": [
    "%%time\n",
    "\n",
    "# y_prediction for the has_profile_img RF model\n",
    "y_pred_has_prof_img_rf = rf_model_has_prof_img.predict(x_test_has_prof_img)"
   ]
  },
  {
   "cell_type": "code",
   "execution_count": 89,
   "id": "d13f997e",
   "metadata": {},
   "outputs": [
    {
     "name": "stdout",
     "output_type": "stream",
     "text": [
      "Accuracy: 0.9365841334007075\n",
      "Log Loss: 2.190318355576293\n",
      "ROC AUC: 0.900465277609725\n",
      "F1-score: 0.8755577590480913\n",
      "Precision: 0.9373673036093418\n",
      "Recall: 0.8213953488372093\n",
      "Classification Report: \n",
      "               precision    recall  f1-score   support\n",
      "\n",
      "           0       0.94      0.98      0.96      2883\n",
      "           1       0.94      0.82      0.88      1075\n",
      "\n",
      "    accuracy                           0.94      3958\n",
      "   macro avg       0.94      0.90      0.92      3958\n",
      "weighted avg       0.94      0.94      0.94      3958\n",
      "\n"
     ]
    }
   ],
   "source": [
    "# Metrics\n",
    "accuracy = metrics.accuracy_score(y_test_has_prof_img, y_pred_has_prof_img_rf)\n",
    "print(f'Accuracy: {accuracy}')\n",
    "lg_loss = metrics.log_loss(y_test_has_prof_img, y_pred_has_prof_img_rf)\n",
    "print(f'Log Loss: {lg_loss}')\n",
    "roc_auc = metrics.roc_auc_score(y_test_has_prof_img, y_pred_has_prof_img_rf)\n",
    "print(f'ROC AUC: {roc_auc}')\n",
    "f1_score = metrics.f1_score(y_test_has_prof_img, y_pred_has_prof_img_rf)\n",
    "print(f'F1-score: {f1_score}')\n",
    "precision = metrics.precision_score(y_test_has_prof_img, y_pred_has_prof_img_rf)\n",
    "print(f'Precision: {precision}')\n",
    "recall = metrics.recall_score(y_test_has_prof_img, y_pred_has_prof_img_rf)\n",
    "print(f'Recall: {recall}')\n",
    "report = metrics.classification_report(y_test_has_prof_img, y_pred_has_prof_img_rf)\n",
    "print(f'Classification Report: \\n {report}')"
   ]
  },
  {
   "cell_type": "code",
   "execution_count": 90,
   "id": "f5ac0817",
   "metadata": {},
   "outputs": [
    {
     "data": {
      "image/png": "[encoded data removed]",
      "text/plain": [
       "<Figure size 432x288 with 2 Axes>"
      ]
     },
     "metadata": {
      "needs_background": "light"
     },
     "output_type": "display_data"
    }
   ],
   "source": [
    "# Confusion Matrix Plot\n",
    "metrics.plot_confusion_matrix(rf_model_has_prof_img, x_test_has_prof_img, y_test_has_prof_img, cmap = \"Blues\")\n",
    "plt.show()"
   ]
  },
  {
   "cell_type": "markdown",
   "id": "1db710a9",
   "metadata": {},
   "source": [
    "### no_profile_image - RF"
   ]
  },
  {
   "cell_type": "code",
   "execution_count": 91,
   "id": "6e53c0db",
   "metadata": {},
   "outputs": [
    {
     "name": "stdout",
     "output_type": "stream",
     "text": [
      "Wall time: 18.4 ms\n"
     ]
    }
   ],
   "source": [
    "%%time\n",
    "\n",
    "# Fit Model\n",
    "rf_model_no_prof_img = rf_classifier.fit(x_train_no_prof_img, np.ravel(y_train_no_prof_img))"
   ]
  },
  {
   "cell_type": "code",
   "execution_count": 92,
   "id": "6351ae65",
   "metadata": {},
   "outputs": [
    {
     "name": "stdout",
     "output_type": "stream",
     "text": [
      "Wall time: 6.45 ms\n"
     ]
    }
   ],
   "source": [
    "%%time\n",
    "\n",
    "# y_prediction for the no_profile_image RF model\n",
    "y_pred_no_prof_img_rf = rf_model_no_prof_img.predict(x_test_no_prof_img)"
   ]
  },
  {
   "cell_type": "code",
   "execution_count": 93,
   "id": "345afa3b",
   "metadata": {},
   "outputs": [
    {
     "name": "stdout",
     "output_type": "stream",
     "text": [
      "Accuracy: 0.900990099009901\n",
      "Log Loss: 3.419728332016713\n",
      "ROC AUC: 0.8672619047619048\n",
      "F1-score: 0.7727272727272727\n",
      "Precision: 0.7391304347826086\n",
      "Recall: 0.8095238095238095\n",
      "Classification Report: \n",
      "               precision    recall  f1-score   support\n",
      "\n",
      "           0       0.95      0.93      0.94        80\n",
      "           1       0.74      0.81      0.77        21\n",
      "\n",
      "    accuracy                           0.90       101\n",
      "   macro avg       0.84      0.87      0.85       101\n",
      "weighted avg       0.91      0.90      0.90       101\n",
      "\n"
     ]
    }
   ],
   "source": [
    "# Metrics\n",
    "accuracy = metrics.accuracy_score(y_test_no_prof_img, y_pred_no_prof_img_rf)\n",
    "print(f'Accuracy: {accuracy}')\n",
    "lg_loss = metrics.log_loss(y_test_no_prof_img, y_pred_no_prof_img_rf)\n",
    "print(f'Log Loss: {lg_loss}')\n",
    "roc_auc = metrics.roc_auc_score(y_test_no_prof_img, y_pred_no_prof_img_rf)\n",
    "print(f'ROC AUC: {roc_auc}')\n",
    "f1_score = metrics.f1_score(y_test_no_prof_img, y_pred_no_prof_img_rf)\n",
    "print(f'F1-score: {f1_score}')\n",
    "precision = metrics.precision_score(y_test_no_prof_img, y_pred_no_prof_img_rf)\n",
    "print(f'Precision: {precision}')\n",
    "recall = metrics.recall_score(y_test_no_prof_img, y_pred_no_prof_img_rf)\n",
    "print(f'Recall: {recall}')\n",
    "report = metrics.classification_report(y_test_no_prof_img, y_pred_no_prof_img_rf)\n",
    "print(f'Classification Report: \\n {report}')"
   ]
  },
  {
   "cell_type": "code",
   "execution_count": 94,
   "id": "3796f83e",
   "metadata": {},
   "outputs": [
    {
     "data": {
      "image/png": "[encoded data removed]",
      "text/plain": [
       "<Figure size 432x288 with 2 Axes>"
      ]
     },
     "metadata": {
      "needs_background": "light"
     },
     "output_type": "display_data"
    }
   ],
   "source": [
    "# Confusion Matrix Plot\n",
    "metrics.plot_confusion_matrix(rf_model_no_prof_img, x_test_no_prof_img, y_test_no_prof_img, cmap = \"Blues\")\n",
    "plt.show()"
   ]
  },
  {
   "cell_type": "markdown",
   "id": "5d9dbe86",
   "metadata": {},
   "source": [
    "### has_profile_image - XGB"
   ]
  },
  {
   "cell_type": "code",
   "execution_count": 95,
   "id": "45a8fd6d",
   "metadata": {},
   "outputs": [
    {
     "name": "stdout",
     "output_type": "stream",
     "text": [
      "Wall time: 3.63 s\n"
     ]
    }
   ],
   "source": [
    "%%time\n",
    "\n",
    "# Fit Model\n",
    "weight_has_prof_img = has_prof_img_dataset['isBot'].value_counts()[0] / has_prof_img_dataset['isBot'].value_counts()[1]\n",
    "xgb_classifier_has_prof_img = get_xgb_classifier(weight_has_prof_img)\n",
    "xgb_model_has_prof_img = xgb_classifier_has_prof_img.fit(x_train_has_prof_img, y_train_has_prof_img)"
   ]
  },
  {
   "cell_type": "code",
   "execution_count": 96,
   "id": "84e92542",
   "metadata": {},
   "outputs": [
    {
     "name": "stdout",
     "output_type": "stream",
     "text": [
      "Wall time: 32 ms\n"
     ]
    }
   ],
   "source": [
    "%%time\n",
    "\n",
    "# y_prediction for the low followers XGBoost model\n",
    "y_pred_has_prof_img_xgb = xgb_model_has_prof_img.predict(x_test_has_prof_img)"
   ]
  },
  {
   "cell_type": "code",
   "execution_count": 97,
   "id": "0af28baf",
   "metadata": {},
   "outputs": [
    {
     "name": "stdout",
     "output_type": "stream",
     "text": [
      "Accuracy: 0.9365841334007075\n",
      "Log Loss: 2.190318355576293\n",
      "ROC AUC: 0.900465277609725\n",
      "F1-score: 0.8755577590480913\n",
      "Precision: 0.9373673036093418\n",
      "Recall: 0.8213953488372093\n",
      "Classification Report: \n",
      "               precision    recall  f1-score   support\n",
      "\n",
      "           0       0.94      0.98      0.96      2883\n",
      "           1       0.94      0.82      0.88      1075\n",
      "\n",
      "    accuracy                           0.94      3958\n",
      "   macro avg       0.94      0.90      0.92      3958\n",
      "weighted avg       0.94      0.94      0.94      3958\n",
      "\n"
     ]
    }
   ],
   "source": [
    "# Metrics\n",
    "accuracy = metrics.accuracy_score(y_test_has_prof_img, y_pred_has_prof_img_rf)\n",
    "print(f'Accuracy: {accuracy}')\n",
    "lg_loss = metrics.log_loss(y_test_has_prof_img, y_pred_has_prof_img_rf)\n",
    "print(f'Log Loss: {lg_loss}')\n",
    "roc_auc = metrics.roc_auc_score(y_test_has_prof_img, y_pred_has_prof_img_rf)\n",
    "print(f'ROC AUC: {roc_auc}')\n",
    "f1_score = metrics.f1_score(y_test_has_prof_img, y_pred_has_prof_img_rf)\n",
    "print(f'F1-score: {f1_score}')\n",
    "precision = metrics.precision_score(y_test_has_prof_img, y_pred_has_prof_img_rf)\n",
    "print(f'Precision: {precision}')\n",
    "recall = metrics.recall_score(y_test_has_prof_img, y_pred_has_prof_img_rf)\n",
    "print(f'Recall: {recall}')\n",
    "report = metrics.classification_report(y_test_has_prof_img, y_pred_has_prof_img_rf)\n",
    "print(f'Classification Report: \\n {report}')"
   ]
  },
  {
   "cell_type": "code",
   "execution_count": 98,
   "id": "e5b3186b",
   "metadata": {},
   "outputs": [
    {
     "data": {
      "image/png": "[encoded data removed]",
      "text/plain": [
       "<Figure size 432x288 with 2 Axes>"
      ]
     },
     "metadata": {
      "needs_background": "light"
     },
     "output_type": "display_data"
    }
   ],
   "source": [
    "# Confusion Matrix Plot\n",
    "metrics.plot_confusion_matrix(xgb_model_has_prof_img, x_test_has_prof_img, y_test_has_prof_img, cmap = \"Blues\")\n",
    "plt.show()"
   ]
  },
  {
   "cell_type": "markdown",
   "id": "4ce17d96",
   "metadata": {},
   "source": [
    "### no_profile_image - XGB"
   ]
  },
  {
   "cell_type": "code",
   "execution_count": 104,
   "id": "c37d2986",
   "metadata": {},
   "outputs": [
    {
     "name": "stdout",
     "output_type": "stream",
     "text": [
      "Wall time: 94.8 ms\n"
     ]
    }
   ],
   "source": [
    "%%time\n",
    "\n",
    "# Fit Model\n",
    "weight_no_prof_img = no_prof_img_dataset['isBot'].value_counts()[0] / no_prof_img_dataset['isBot'].value_counts()[1]\n",
    "xgb_classifier_no_prof_img = get_xgb_classifier(weight_no_prof_img)\n",
    "xgb_model_no_prof_img = xgb_classifier_no_prof_img.fit(x_train_no_prof_img, y_train_no_prof_img)"
   ]
  },
  {
   "cell_type": "code",
   "execution_count": 105,
   "id": "386a245c",
   "metadata": {},
   "outputs": [
    {
     "name": "stdout",
     "output_type": "stream",
     "text": [
      "Wall time: 5.02 ms\n"
     ]
    }
   ],
   "source": [
    "%%time\n",
    "\n",
    "# y_prediction for the no_profile_image RF model\n",
    "y_pred_no_prof_img_xgb = xgb_model_no_prof_img.predict(x_test_no_prof_img)"
   ]
  },
  {
   "cell_type": "code",
   "execution_count": 106,
   "id": "922deb38",
   "metadata": {},
   "outputs": [
    {
     "name": "stdout",
     "output_type": "stream",
     "text": [
      "Accuracy: 0.9108910891089109\n",
      "Log Loss: 3.0777681657050255\n",
      "ROC AUC: 0.9086309523809523\n",
      "F1-score: 0.8085106382978723\n",
      "Precision: 0.7307692307692307\n",
      "Recall: 0.9047619047619048\n",
      "Classification Report: \n",
      "               precision    recall  f1-score   support\n",
      "\n",
      "           0       0.97      0.91      0.94        80\n",
      "           1       0.73      0.90      0.81        21\n",
      "\n",
      "    accuracy                           0.91       101\n",
      "   macro avg       0.85      0.91      0.88       101\n",
      "weighted avg       0.92      0.91      0.91       101\n",
      "\n"
     ]
    }
   ],
   "source": [
    "# Metrics\n",
    "accuracy = metrics.accuracy_score(y_test_no_prof_img, y_pred_no_prof_img_xgb)\n",
    "print(f'Accuracy: {accuracy}')\n",
    "lg_loss = metrics.log_loss(y_test_no_prof_img, y_pred_no_prof_img_xgb)\n",
    "print(f'Log Loss: {lg_loss}')\n",
    "roc_auc = metrics.roc_auc_score(y_test_no_prof_img, y_pred_no_prof_img_xgb)\n",
    "print(f'ROC AUC: {roc_auc}')\n",
    "f1_score = metrics.f1_score(y_test_no_prof_img, y_pred_no_prof_img_xgb)\n",
    "print(f'F1-score: {f1_score}')\n",
    "precision = metrics.precision_score(y_test_no_prof_img, y_pred_no_prof_img_xgb)\n",
    "print(f'Precision: {precision}')\n",
    "recall = metrics.recall_score(y_test_no_prof_img, y_pred_no_prof_img_xgb)\n",
    "print(f'Recall: {recall}')\n",
    "report = metrics.classification_report(y_test_no_prof_img, y_pred_no_prof_img_xgb)\n",
    "print(f'Classification Report: \\n {report}')"
   ]
  },
  {
   "cell_type": "code",
   "execution_count": 107,
   "id": "291f7e1b",
   "metadata": {},
   "outputs": [
    {
     "data": {
      "image/png": "[encoded data removed]",
      "text/plain": [
       "<Figure size 432x288 with 2 Axes>"
      ]
     },
     "metadata": {
      "needs_background": "light"
     },
     "output_type": "display_data"
    }
   ],
   "source": [
    "# Confusion Matrix Plot\n",
    "metrics.plot_confusion_matrix(xgb_model_no_prof_img, x_test_no_prof_img, y_test_no_prof_img, cmap = \"Blues\")\n",
    "plt.show()"
   ]
  }
 ],
 "metadata": {
  "kernelspec": {
   "display_name": "Python 3 (ipykernel)",
   "language": "python",
   "name": "python3"
  },
  "language_info": {
   "codemirror_mode": {
    "name": "ipython",
    "version": 3
   },
   "file_extension": ".py",
   "mimetype": "text/x-python",
   "name": "python",
   "nbconvert_exporter": "python",
   "pygments_lexer": "ipython3",
   "version": "3.9.7"
  }
 },
 "nbformat": 4,
 "nbformat_minor": 5
}
