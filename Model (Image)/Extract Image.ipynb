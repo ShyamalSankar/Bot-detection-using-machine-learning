{
 "cells": [
  {
   "cell_type": "code",
   "execution_count": 1,
   "id": "0811ed30",
   "metadata": {},
   "outputs": [
    {
     "name": "stderr",
     "output_type": "stream",
     "text": [
      "2023-03-29 22:31:38.363092: I tensorflow/core/platform/cpu_feature_guard.cc:193] This TensorFlow binary is optimized with oneAPI Deep Neural Network Library (oneDNN) to use the following CPU instructions in performance-critical operations:  AVX2 FMA\n",
      "To enable them in other operations, rebuild TensorFlow with the appropriate compiler flags.\n"
     ]
    }
   ],
   "source": [
    "import warnings\n",
    "warnings.filterwarnings(\"ignore\")\n",
    "import pandas as pd\n",
    "import numpy as np\n",
    "import os\n",
    "import tensorflow as tf\n",
    "import cv2\n",
    "import gif2numpy\n",
    "from tensorflow import keras\n",
    "from tensorflow.keras import datasets, layers, models\n",
    "from tensorflow.keras.layers import Dense, Input, InputLayer, Flatten\n",
    "from tensorflow.keras.models import Sequential, Model\n",
    "from  matplotlib import pyplot as plt\n",
    "import matplotlib.image as mpimg\n",
    "from sklearn.utils import shuffle\n",
    "%matplotlib inline\n",
    "import splitfolders"
   ]
  },
  {
   "cell_type": "code",
   "execution_count": 120,
   "id": "900ef86c",
   "metadata": {},
   "outputs": [
    {
     "name": "stderr",
     "output_type": "stream",
     "text": [
      "Copying files: 19746 files [00:18, 1072.81 files/s]\n"
     ]
    }
   ],
   "source": [
    "# split into training and testing sets \n",
    "splitfolders.ratio(\"./pictures\", output=\"profile_images_split\", ratio=(.8, .1, .1), group_prefix=None, move=False) # default values"
   ]
  },
  {
   "cell_type": "code",
   "execution_count": 129,
   "id": "4dd644ed",
   "metadata": {},
   "outputs": [
    {
     "name": "stderr",
     "output_type": "stream",
     "text": [
      "Copying files: 10226 files [00:17, 574.02 files/s]\n"
     ]
    }
   ],
   "source": [
    "# split into training and testing sets \n",
    "splitfolders.ratio(\"./pictures2\", output=\"images_split\", ratio=(.8, .1, .1), group_prefix=None, move=False) # default values\n",
    "\n"
   ]
  },
  {
   "cell_type": "code",
   "execution_count": 3,
   "id": "7d745043",
   "metadata": {
    "scrolled": true
   },
   "outputs": [
    {
     "name": "stderr",
     "output_type": "stream",
     "text": [
      "libpng warning: iCCP: known incorrect sRGB profile\n",
      "libpng warning: iCCP: known incorrect sRGB profile\n",
      "libpng warning: iCCP: known incorrect sRGB profile\n",
      "libpng warning: iCCP: known incorrect sRGB profile\n",
      "libpng warning: iCCP: known incorrect sRGB profile\n",
      "libpng warning: iCCP: known incorrect sRGB profile\n",
      "libpng warning: iCCP: known incorrect sRGB profile\n",
      "libpng warning: iCCP: known incorrect sRGB profile\n"
     ]
    }
   ],
   "source": [
    "IMG_WIDTH = 200\n",
    "IMG_HEIGHT = 200\n",
    "\n",
    "def create_dataset(img_folder, bot=True):\n",
    "    img_data_array = []\n",
    "    class_name = []\n",
    "    \n",
    "    for dir1 in os.listdir(img_folder):\n",
    "        image_path = os.path.join(img_folder, dir1)\n",
    "        image = cv2.imread(image_path, cv2.COLOR_BGR2RGB)\n",
    "        try:\n",
    "            image = cv2.resize(image, (IMG_HEIGHT, IMG_WIDTH), interpolation = cv2.INTER_AREA)\n",
    "        except:\n",
    "            image = gif2numpy.convert(image_path)[0][0]\n",
    "            image = cv2.resize(image, (IMG_HEIGHT, IMG_WIDTH), interpolation = cv2.INTER_AREA)\n",
    "        image = np.array(image)\n",
    "        image = image.astype('float32')\n",
    "        image /= 255 \n",
    "        img_data_array.append(image)\n",
    "        if bot:\n",
    "            class_name.append([1])\n",
    "        else: \n",
    "            class_name.append([0])\n",
    "    return img_data_array, class_name\n",
    "\n",
    "# extract the image array and class name\n",
    "bot_train, class_name_bot = create_dataset('./images_split/train/1_bot')\n",
    "human_train, class_name_human = create_dataset('/Users/jess/Desktop/images_split/train/0_human', False)\n",
    "\n",
    "bot_test, class_name_bot_test = create_dataset('/Users/jess/Desktop/images_split/test/1_bot')\n",
    "human_test, class_name_human_test = create_dataset('/Users/jess/Desktop/images_split/test/0_human', False)"
   ]
  },
  {
   "cell_type": "code",
   "execution_count": 4,
   "id": "f5d8cb62",
   "metadata": {},
   "outputs": [
    {
     "name": "stdout",
     "output_type": "stream",
     "text": [
      "3300\n",
      "3300\n",
      "4880\n",
      "4880\n"
     ]
    }
   ],
   "source": [
    "print(len(bot_train))\n",
    "print(len(class_name_bot))\n",
    "print(len(human_train))\n",
    "print(len(class_name_human))"
   ]
  },
  {
   "cell_type": "code",
   "execution_count": 5,
   "id": "1a6021e7",
   "metadata": {
    "scrolled": true
   },
   "outputs": [],
   "source": [
    "bot_train = np.array(bot_train, dtype=np.float32)\n",
    "human_train = np.array(human_train, dtype=np.float32)\n",
    "train_images = np.concatenate((bot_train, human_train), dtype=np.float32)\n",
    "train_labels = np.array(class_name_bot+class_name_human, np.float32)\n",
    "\n",
    "bot_test = np.array(bot_test, dtype=np.float32)\n",
    "human_test = np.array(human_test, dtype=np.float32)\n",
    "test_images = np.concatenate((bot_test, human_test), dtype=np.float32)\n",
    "test_labels = np.array(class_name_bot_test+class_name_human_test, np.float32)"
   ]
  },
  {
   "cell_type": "code",
   "execution_count": 6,
   "id": "d7dfa1ea",
   "metadata": {},
   "outputs": [],
   "source": [
    "train_images, train_labels = shuffle(train_images, train_labels)\n",
    "test_images, test_labels = shuffle(test_images, test_labels)"
   ]
  },
  {
   "cell_type": "code",
   "execution_count": 7,
   "id": "7b5d0d8a",
   "metadata": {},
   "outputs": [
    {
     "name": "stdout",
     "output_type": "stream",
     "text": [
      "(15796, 200, 200, 3)\n",
      "(15796, 1)\n",
      "(3950, 200, 200, 3)\n",
      "(3950, 1)\n"
     ]
    }
   ],
   "source": [
    "print(train_images.shape)\n",
    "print(train_labels.shape)\n",
    "print(test_images.shape)\n",
    "print(test_labels.shape)"
   ]
  }
 ],
 "metadata": {
  "kernelspec": {
   "display_name": "Python 3 (ipykernel)",
   "language": "python",
   "name": "python3"
  },
  "language_info": {
   "codemirror_mode": {
    "name": "ipython",
    "version": 3
   },
   "file_extension": ".py",
   "mimetype": "text/x-python",
   "name": "python",
   "nbconvert_exporter": "python",
   "pygments_lexer": "ipython3",
   "version": "3.9.5"
  }
 },
 "nbformat": 4,
 "nbformat_minor": 5
}
